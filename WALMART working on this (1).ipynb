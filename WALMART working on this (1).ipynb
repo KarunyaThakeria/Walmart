{
  "metadata": {
    "kernelspec": {
      "name": "python",
      "display_name": "Python (Pyodide)",
      "language": "python"
    },
    "language_info": {
      "codemirror_mode": {
        "name": "python",
        "version": 3
      },
      "file_extension": ".py",
      "mimetype": "text/x-python",
      "name": "python",
      "nbconvert_exporter": "python",
      "pygments_lexer": "ipython3",
      "version": "3.8"
    }
  },
  "nbformat_minor": 5,
  "nbformat": 4,
  "cells": [
    {
      "id": "2479a553-1323-412f-a55c-6c6fb216358d",
      "cell_type": "code",
      "source": "import pandas as pd\nimport numpy as np\nimport math\nfrom pandas.tseries.offsets import DateOffset\nfrom datetime import timedelta",
      "metadata": {
        "trusted": true
      },
      "outputs": [],
      "execution_count": 1
    },
    {
      "id": "95abac1b-9778-415d-ae42-0d97ef739f46",
      "cell_type": "code",
      "source": "df=pd.read_csv(\"Grocery_Inventory_and_Sales_Dataset.csv\")\ndf.head()",
      "metadata": {
        "trusted": true
      },
      "outputs": [
        {
          "execution_count": 2,
          "output_type": "execute_result",
          "data": {
            "text/plain": "    Product_ID     Product_Name             Catagory  Supplier_ID  \\\n0  29-205-1132       Sushi Rice      Grains & Pulses  38-037-1699   \n1  40-681-9981   Arabica Coffee            Beverages  54-470-2479   \n2  06-955-3428       Black Rice      Grains & Pulses  54-031-2945   \n3  71-594-6552  Long Grain Rice      Grains & Pulses  63-492-7603   \n4  57-437-1828             Plum  Fruits & Vegetables  54-226-4308   \n\n  Supplier_Name  Stock_Quantity  Reorder_Level  Reorder_Quantity Unit_Price  \\\n0     Jaxnation              22             72                70     $4.50    \n1       Feedmix              45             77                 2    $20.00    \n2        Vinder              30             38                83     $6.00    \n3    Brightbean              12             59                62     $1.50    \n4    Topicstorm              37             30                74     $4.00    \n\n  Date_Received Last_Order_Date Expiration_Date      Warehouse_Location  \\\n0     8/16/2024       6/29/2024       9/19/2024        48 Del Sol Trail   \n1     11/1/2024       5/29/2024        5/8/2024            36 3rd Place   \n2      8/3/2024       6/10/2024       9/22/2024       3296 Walton Court   \n3     12/8/2024       2/19/2025       4/17/2024  3 Westerfield Crossing   \n4      7/3/2024      10/11/2024       10/5/2024    15068 Scoville Court   \n\n   Sales_Volume  Inventory_Turnover_Rate        Status  \n0            32                       19  Discontinued  \n1            85                        1  Discontinued  \n2            31                       34   Backordered  \n3            95                       99        Active  \n4            62                       25   Backordered  ",
            "text/html": "<div>\n<style scoped>\n    .dataframe tbody tr th:only-of-type {\n        vertical-align: middle;\n    }\n\n    .dataframe tbody tr th {\n        vertical-align: top;\n    }\n\n    .dataframe thead th {\n        text-align: right;\n    }\n</style>\n<table border=\"1\" class=\"dataframe\">\n  <thead>\n    <tr style=\"text-align: right;\">\n      <th></th>\n      <th>Product_ID</th>\n      <th>Product_Name</th>\n      <th>Catagory</th>\n      <th>Supplier_ID</th>\n      <th>Supplier_Name</th>\n      <th>Stock_Quantity</th>\n      <th>Reorder_Level</th>\n      <th>Reorder_Quantity</th>\n      <th>Unit_Price</th>\n      <th>Date_Received</th>\n      <th>Last_Order_Date</th>\n      <th>Expiration_Date</th>\n      <th>Warehouse_Location</th>\n      <th>Sales_Volume</th>\n      <th>Inventory_Turnover_Rate</th>\n      <th>Status</th>\n    </tr>\n  </thead>\n  <tbody>\n    <tr>\n      <th>0</th>\n      <td>29-205-1132</td>\n      <td>Sushi Rice</td>\n      <td>Grains &amp; Pulses</td>\n      <td>38-037-1699</td>\n      <td>Jaxnation</td>\n      <td>22</td>\n      <td>72</td>\n      <td>70</td>\n      <td>$4.50</td>\n      <td>8/16/2024</td>\n      <td>6/29/2024</td>\n      <td>9/19/2024</td>\n      <td>48 Del Sol Trail</td>\n      <td>32</td>\n      <td>19</td>\n      <td>Discontinued</td>\n    </tr>\n    <tr>\n      <th>1</th>\n      <td>40-681-9981</td>\n      <td>Arabica Coffee</td>\n      <td>Beverages</td>\n      <td>54-470-2479</td>\n      <td>Feedmix</td>\n      <td>45</td>\n      <td>77</td>\n      <td>2</td>\n      <td>$20.00</td>\n      <td>11/1/2024</td>\n      <td>5/29/2024</td>\n      <td>5/8/2024</td>\n      <td>36 3rd Place</td>\n      <td>85</td>\n      <td>1</td>\n      <td>Discontinued</td>\n    </tr>\n    <tr>\n      <th>2</th>\n      <td>06-955-3428</td>\n      <td>Black Rice</td>\n      <td>Grains &amp; Pulses</td>\n      <td>54-031-2945</td>\n      <td>Vinder</td>\n      <td>30</td>\n      <td>38</td>\n      <td>83</td>\n      <td>$6.00</td>\n      <td>8/3/2024</td>\n      <td>6/10/2024</td>\n      <td>9/22/2024</td>\n      <td>3296 Walton Court</td>\n      <td>31</td>\n      <td>34</td>\n      <td>Backordered</td>\n    </tr>\n    <tr>\n      <th>3</th>\n      <td>71-594-6552</td>\n      <td>Long Grain Rice</td>\n      <td>Grains &amp; Pulses</td>\n      <td>63-492-7603</td>\n      <td>Brightbean</td>\n      <td>12</td>\n      <td>59</td>\n      <td>62</td>\n      <td>$1.50</td>\n      <td>12/8/2024</td>\n      <td>2/19/2025</td>\n      <td>4/17/2024</td>\n      <td>3 Westerfield Crossing</td>\n      <td>95</td>\n      <td>99</td>\n      <td>Active</td>\n    </tr>\n    <tr>\n      <th>4</th>\n      <td>57-437-1828</td>\n      <td>Plum</td>\n      <td>Fruits &amp; Vegetables</td>\n      <td>54-226-4308</td>\n      <td>Topicstorm</td>\n      <td>37</td>\n      <td>30</td>\n      <td>74</td>\n      <td>$4.00</td>\n      <td>7/3/2024</td>\n      <td>10/11/2024</td>\n      <td>10/5/2024</td>\n      <td>15068 Scoville Court</td>\n      <td>62</td>\n      <td>25</td>\n      <td>Backordered</td>\n    </tr>\n  </tbody>\n</table>\n</div>"
          },
          "metadata": {}
        }
      ],
      "execution_count": 2
    },
    {
      "id": "a4e18148-4c93-4148-bf87-424d92b7d941",
      "cell_type": "code",
      "source": "df.isnull().sum()",
      "metadata": {
        "trusted": true
      },
      "outputs": [
        {
          "execution_count": 3,
          "output_type": "execute_result",
          "data": {
            "text/plain": "Product_ID                 0\nProduct_Name               0\nCatagory                   1\nSupplier_ID                0\nSupplier_Name              0\nStock_Quantity             0\nReorder_Level              0\nReorder_Quantity           0\nUnit_Price                 0\nDate_Received              0\nLast_Order_Date            0\nExpiration_Date            0\nWarehouse_Location         0\nSales_Volume               0\nInventory_Turnover_Rate    0\nStatus                     0\ndtype: int64"
          },
          "metadata": {}
        }
      ],
      "execution_count": 3
    },
    {
      "id": "e4c1ab55-8c5d-4268-ab1d-a09658467344",
      "cell_type": "code",
      "source": "df=df.dropna()",
      "metadata": {
        "trusted": true
      },
      "outputs": [],
      "execution_count": 4
    },
    {
      "id": "d26c1720-1acd-47e5-8e3b-685e5bbb3b6a",
      "cell_type": "code",
      "source": "df.isnull().sum()",
      "metadata": {
        "trusted": true
      },
      "outputs": [
        {
          "execution_count": 5,
          "output_type": "execute_result",
          "data": {
            "text/plain": "Product_ID                 0\nProduct_Name               0\nCatagory                   0\nSupplier_ID                0\nSupplier_Name              0\nStock_Quantity             0\nReorder_Level              0\nReorder_Quantity           0\nUnit_Price                 0\nDate_Received              0\nLast_Order_Date            0\nExpiration_Date            0\nWarehouse_Location         0\nSales_Volume               0\nInventory_Turnover_Rate    0\nStatus                     0\ndtype: int64"
          },
          "metadata": {}
        }
      ],
      "execution_count": 5
    },
    {
      "id": "bda7dc98-e676-4646-b1a3-11ece21a5ff4",
      "cell_type": "code",
      "source": "#del unwanted col\ndf = df.drop(['Last_Order_Date', 'Warehouse_Location','Sales_Volume','Inventory_Turnover_Rate','Status' ], axis=1)\nlen(df)",
      "metadata": {
        "trusted": true
      },
      "outputs": [
        {
          "execution_count": 6,
          "output_type": "execute_result",
          "data": {
            "text/plain": "989"
          },
          "metadata": {}
        }
      ],
      "execution_count": 6
    },
    {
      "id": "ed649ca6-d36b-4007-9122-931c68f91ad3",
      "cell_type": "code",
      "source": "df.head()",
      "metadata": {
        "trusted": true
      },
      "outputs": [
        {
          "execution_count": 7,
          "output_type": "execute_result",
          "data": {
            "text/plain": "    Product_ID     Product_Name             Catagory  Supplier_ID  \\\n0  29-205-1132       Sushi Rice      Grains & Pulses  38-037-1699   \n1  40-681-9981   Arabica Coffee            Beverages  54-470-2479   \n2  06-955-3428       Black Rice      Grains & Pulses  54-031-2945   \n3  71-594-6552  Long Grain Rice      Grains & Pulses  63-492-7603   \n4  57-437-1828             Plum  Fruits & Vegetables  54-226-4308   \n\n  Supplier_Name  Stock_Quantity  Reorder_Level  Reorder_Quantity Unit_Price  \\\n0     Jaxnation              22             72                70     $4.50    \n1       Feedmix              45             77                 2    $20.00    \n2        Vinder              30             38                83     $6.00    \n3    Brightbean              12             59                62     $1.50    \n4    Topicstorm              37             30                74     $4.00    \n\n  Date_Received Expiration_Date  \n0     8/16/2024       9/19/2024  \n1     11/1/2024        5/8/2024  \n2      8/3/2024       9/22/2024  \n3     12/8/2024       4/17/2024  \n4      7/3/2024       10/5/2024  ",
            "text/html": "<div>\n<style scoped>\n    .dataframe tbody tr th:only-of-type {\n        vertical-align: middle;\n    }\n\n    .dataframe tbody tr th {\n        vertical-align: top;\n    }\n\n    .dataframe thead th {\n        text-align: right;\n    }\n</style>\n<table border=\"1\" class=\"dataframe\">\n  <thead>\n    <tr style=\"text-align: right;\">\n      <th></th>\n      <th>Product_ID</th>\n      <th>Product_Name</th>\n      <th>Catagory</th>\n      <th>Supplier_ID</th>\n      <th>Supplier_Name</th>\n      <th>Stock_Quantity</th>\n      <th>Reorder_Level</th>\n      <th>Reorder_Quantity</th>\n      <th>Unit_Price</th>\n      <th>Date_Received</th>\n      <th>Expiration_Date</th>\n    </tr>\n  </thead>\n  <tbody>\n    <tr>\n      <th>0</th>\n      <td>29-205-1132</td>\n      <td>Sushi Rice</td>\n      <td>Grains &amp; Pulses</td>\n      <td>38-037-1699</td>\n      <td>Jaxnation</td>\n      <td>22</td>\n      <td>72</td>\n      <td>70</td>\n      <td>$4.50</td>\n      <td>8/16/2024</td>\n      <td>9/19/2024</td>\n    </tr>\n    <tr>\n      <th>1</th>\n      <td>40-681-9981</td>\n      <td>Arabica Coffee</td>\n      <td>Beverages</td>\n      <td>54-470-2479</td>\n      <td>Feedmix</td>\n      <td>45</td>\n      <td>77</td>\n      <td>2</td>\n      <td>$20.00</td>\n      <td>11/1/2024</td>\n      <td>5/8/2024</td>\n    </tr>\n    <tr>\n      <th>2</th>\n      <td>06-955-3428</td>\n      <td>Black Rice</td>\n      <td>Grains &amp; Pulses</td>\n      <td>54-031-2945</td>\n      <td>Vinder</td>\n      <td>30</td>\n      <td>38</td>\n      <td>83</td>\n      <td>$6.00</td>\n      <td>8/3/2024</td>\n      <td>9/22/2024</td>\n    </tr>\n    <tr>\n      <th>3</th>\n      <td>71-594-6552</td>\n      <td>Long Grain Rice</td>\n      <td>Grains &amp; Pulses</td>\n      <td>63-492-7603</td>\n      <td>Brightbean</td>\n      <td>12</td>\n      <td>59</td>\n      <td>62</td>\n      <td>$1.50</td>\n      <td>12/8/2024</td>\n      <td>4/17/2024</td>\n    </tr>\n    <tr>\n      <th>4</th>\n      <td>57-437-1828</td>\n      <td>Plum</td>\n      <td>Fruits &amp; Vegetables</td>\n      <td>54-226-4308</td>\n      <td>Topicstorm</td>\n      <td>37</td>\n      <td>30</td>\n      <td>74</td>\n      <td>$4.00</td>\n      <td>7/3/2024</td>\n      <td>10/5/2024</td>\n    </tr>\n  </tbody>\n</table>\n</div>"
          },
          "metadata": {}
        }
      ],
      "execution_count": 7
    },
    {
      "id": "e627e4ba-3dd6-4f48-a2c2-bdd7a10f7d20",
      "cell_type": "code",
      "source": "df['Expiration_Date'] = pd.to_datetime(df['Expiration_Date'], format='%m/%d/%Y',errors='coerce')\ndf['Date_Received'] = pd.to_datetime(df['Date_Received'], format='%m/%d/%Y',errors='coerce')",
      "metadata": {
        "trusted": true
      },
      "outputs": [],
      "execution_count": 8
    },
    {
      "id": "886d04a3-9831-4e15-87b3-71fe2e98325b",
      "cell_type": "code",
      "source": "#exp\n#curr_date=df['Date_Received'].max()\n'''\ncurr_date='2025-01-01'\nexpired_items = df[df['Expiration_Date'] < curr_date]\nnot_exp=len(df)-expired_items.shape[0]\nprint(not_exp)\n'''",
      "metadata": {
        "trusted": true
      },
      "outputs": [
        {
          "execution_count": 9,
          "output_type": "execute_result",
          "data": {
            "text/plain": "\"\\ncurr_date='2025-01-01'\\nexpired_items = df[df['Expiration_Date'] < curr_date]\\nnot_exp=len(df)-expired_items.shape[0]\\nprint(not_exp)\\n\""
          },
          "metadata": {}
        }
      ],
      "execution_count": 9
    },
    {
      "id": "fe2a5f75-c1fe-40b9-b42b-74cde2526bab",
      "cell_type": "code",
      "source": "#setting curr date as 2025-02-09\n''' tables=expiered, discount, donation\ncreate status in i_table\n\n'''",
      "metadata": {
        "trusted": true
      },
      "outputs": [
        {
          "execution_count": 10,
          "output_type": "execute_result",
          "data": {
            "text/plain": "' tables=expiered, discount, donation\\ncreate status in i_table\\n\\n'"
          },
          "metadata": {}
        }
      ],
      "execution_count": 10
    },
    {
      "id": "e0dc0c9f-7f4d-4624-b484-df4d379bb61c",
      "cell_type": "code",
      "source": "condition = df['Date_Received'] < pd.Timestamp('2024-11-01')\n\n# Apply 7-month shift only to matching rows\ndf.loc[condition, 'Date_Received'] = df.loc[condition, 'Date_Received'] + pd.DateOffset(months=7)\ndf.loc[condition, 'Expiration_Date'] = df.loc[condition, 'Expiration_Date'] + pd.DateOffset(months=7)\n\n# View result\ndf[['Date_Received', 'Expiration_Date']].head()",
      "metadata": {
        "trusted": true
      },
      "outputs": [
        {
          "execution_count": 11,
          "output_type": "execute_result",
          "data": {
            "text/plain": "  Date_Received Expiration_Date\n0    2025-03-16      2025-04-19\n1    2024-11-01      2024-05-08\n2    2025-03-03      2025-04-22\n3    2024-12-08      2024-04-17\n4    2025-02-03      2025-05-05",
            "text/html": "<div>\n<style scoped>\n    .dataframe tbody tr th:only-of-type {\n        vertical-align: middle;\n    }\n\n    .dataframe tbody tr th {\n        vertical-align: top;\n    }\n\n    .dataframe thead th {\n        text-align: right;\n    }\n</style>\n<table border=\"1\" class=\"dataframe\">\n  <thead>\n    <tr style=\"text-align: right;\">\n      <th></th>\n      <th>Date_Received</th>\n      <th>Expiration_Date</th>\n    </tr>\n  </thead>\n  <tbody>\n    <tr>\n      <th>0</th>\n      <td>2025-03-16</td>\n      <td>2025-04-19</td>\n    </tr>\n    <tr>\n      <th>1</th>\n      <td>2024-11-01</td>\n      <td>2024-05-08</td>\n    </tr>\n    <tr>\n      <th>2</th>\n      <td>2025-03-03</td>\n      <td>2025-04-22</td>\n    </tr>\n    <tr>\n      <th>3</th>\n      <td>2024-12-08</td>\n      <td>2024-04-17</td>\n    </tr>\n    <tr>\n      <th>4</th>\n      <td>2025-02-03</td>\n      <td>2025-05-05</td>\n    </tr>\n  </tbody>\n</table>\n</div>"
          },
          "metadata": {}
        }
      ],
      "execution_count": 11
    },
    {
      "id": "cff2dfdf-a0d6-484d-beb3-bffeaf54d0e6",
      "cell_type": "code",
      "source": "print(df['Date_Received'].max())\nprint(df['Date_Received'].min())",
      "metadata": {
        "trusted": true
      },
      "outputs": [
        {
          "name": "stdout",
          "output_type": "stream",
          "text": "2025-05-31 00:00:00\n2024-09-25 00:00:00\n"
        }
      ],
      "execution_count": 12
    },
    {
      "id": "986a802f-3469-447e-937d-390e0de8a986",
      "cell_type": "code",
      "source": "# Calculate shelf life in days\ndf['Shelf_Life_(Days)'] = (df['Expiration_Date'] - df['Date_Received']).dt.days\n\n# Swap values of exp and rec dates only where Shelf_Life_(Days) < 0\nmask = df['Shelf_Life_(Days)'] < 0\n# Use .loc to safely swap the values conditionally\ndf.loc[mask, ['Date_Received', 'Expiration_Date']] = df.loc[mask, ['Expiration_Date', 'Date_Received']].values\ndf['Shelf_Life_(Days)'] = (df['Expiration_Date'] - df['Date_Received']).dt.days\ndf['Shelf_Life_(Years)'] = (df['Shelf_Life_(Days)']/365).round(2)\n\nmax_years = math.ceil(df['Shelf_Life_(Years)'].max())\nbins = list(range(0, max_years + 1))\nlabels = [f'{i}-{i+1} years' for i in range(0, max_years)]\ndf['Shelf_Life_Bin'] = pd.cut(df['Shelf_Life_(Years)'], bins=bins, labels=labels, right=False)\nshelf_life_distribution = df['Shelf_Life_Bin'].value_counts().sort_index()\n\ndf.reset_index(drop=True,inplace=True)\n\n# View a few rows\ndf.head()",
      "metadata": {
        "trusted": true
      },
      "outputs": [
        {
          "execution_count": 13,
          "output_type": "execute_result",
          "data": {
            "text/plain": "    Product_ID     Product_Name             Catagory  Supplier_ID  \\\n0  29-205-1132       Sushi Rice      Grains & Pulses  38-037-1699   \n1  40-681-9981   Arabica Coffee            Beverages  54-470-2479   \n2  06-955-3428       Black Rice      Grains & Pulses  54-031-2945   \n3  71-594-6552  Long Grain Rice      Grains & Pulses  63-492-7603   \n4  57-437-1828             Plum  Fruits & Vegetables  54-226-4308   \n\n  Supplier_Name  Stock_Quantity  Reorder_Level  Reorder_Quantity Unit_Price  \\\n0     Jaxnation              22             72                70     $4.50    \n1       Feedmix              45             77                 2    $20.00    \n2        Vinder              30             38                83     $6.00    \n3    Brightbean              12             59                62     $1.50    \n4    Topicstorm              37             30                74     $4.00    \n\n  Date_Received Expiration_Date  Shelf_Life_(Days)  Shelf_Life_(Years)  \\\n0    2025-03-16      2025-04-19                 34                0.09   \n1    2024-05-08      2024-11-01                177                0.48   \n2    2025-03-03      2025-04-22                 50                0.14   \n3    2024-04-17      2024-12-08                235                0.64   \n4    2025-02-03      2025-05-05                 91                0.25   \n\n  Shelf_Life_Bin  \n0      0-1 years  \n1      0-1 years  \n2      0-1 years  \n3      0-1 years  \n4      0-1 years  ",
            "text/html": "<div>\n<style scoped>\n    .dataframe tbody tr th:only-of-type {\n        vertical-align: middle;\n    }\n\n    .dataframe tbody tr th {\n        vertical-align: top;\n    }\n\n    .dataframe thead th {\n        text-align: right;\n    }\n</style>\n<table border=\"1\" class=\"dataframe\">\n  <thead>\n    <tr style=\"text-align: right;\">\n      <th></th>\n      <th>Product_ID</th>\n      <th>Product_Name</th>\n      <th>Catagory</th>\n      <th>Supplier_ID</th>\n      <th>Supplier_Name</th>\n      <th>Stock_Quantity</th>\n      <th>Reorder_Level</th>\n      <th>Reorder_Quantity</th>\n      <th>Unit_Price</th>\n      <th>Date_Received</th>\n      <th>Expiration_Date</th>\n      <th>Shelf_Life_(Days)</th>\n      <th>Shelf_Life_(Years)</th>\n      <th>Shelf_Life_Bin</th>\n    </tr>\n  </thead>\n  <tbody>\n    <tr>\n      <th>0</th>\n      <td>29-205-1132</td>\n      <td>Sushi Rice</td>\n      <td>Grains &amp; Pulses</td>\n      <td>38-037-1699</td>\n      <td>Jaxnation</td>\n      <td>22</td>\n      <td>72</td>\n      <td>70</td>\n      <td>$4.50</td>\n      <td>2025-03-16</td>\n      <td>2025-04-19</td>\n      <td>34</td>\n      <td>0.09</td>\n      <td>0-1 years</td>\n    </tr>\n    <tr>\n      <th>1</th>\n      <td>40-681-9981</td>\n      <td>Arabica Coffee</td>\n      <td>Beverages</td>\n      <td>54-470-2479</td>\n      <td>Feedmix</td>\n      <td>45</td>\n      <td>77</td>\n      <td>2</td>\n      <td>$20.00</td>\n      <td>2024-05-08</td>\n      <td>2024-11-01</td>\n      <td>177</td>\n      <td>0.48</td>\n      <td>0-1 years</td>\n    </tr>\n    <tr>\n      <th>2</th>\n      <td>06-955-3428</td>\n      <td>Black Rice</td>\n      <td>Grains &amp; Pulses</td>\n      <td>54-031-2945</td>\n      <td>Vinder</td>\n      <td>30</td>\n      <td>38</td>\n      <td>83</td>\n      <td>$6.00</td>\n      <td>2025-03-03</td>\n      <td>2025-04-22</td>\n      <td>50</td>\n      <td>0.14</td>\n      <td>0-1 years</td>\n    </tr>\n    <tr>\n      <th>3</th>\n      <td>71-594-6552</td>\n      <td>Long Grain Rice</td>\n      <td>Grains &amp; Pulses</td>\n      <td>63-492-7603</td>\n      <td>Brightbean</td>\n      <td>12</td>\n      <td>59</td>\n      <td>62</td>\n      <td>$1.50</td>\n      <td>2024-04-17</td>\n      <td>2024-12-08</td>\n      <td>235</td>\n      <td>0.64</td>\n      <td>0-1 years</td>\n    </tr>\n    <tr>\n      <th>4</th>\n      <td>57-437-1828</td>\n      <td>Plum</td>\n      <td>Fruits &amp; Vegetables</td>\n      <td>54-226-4308</td>\n      <td>Topicstorm</td>\n      <td>37</td>\n      <td>30</td>\n      <td>74</td>\n      <td>$4.00</td>\n      <td>2025-02-03</td>\n      <td>2025-05-05</td>\n      <td>91</td>\n      <td>0.25</td>\n      <td>0-1 years</td>\n    </tr>\n  </tbody>\n</table>\n</div>"
          },
          "metadata": {}
        }
      ],
      "execution_count": 13
    },
    {
      "id": "a1602758-7e1e-440a-a3d7-63d70016da62",
      "cell_type": "code",
      "source": "#making col for donation and discount dates in df",
      "metadata": {
        "trusted": true
      },
      "outputs": [],
      "execution_count": 14
    },
    {
      "id": "2b314618-bda6-4252-9051-550e6e43a661",
      "cell_type": "code",
      "source": "# Apply conditional logic for discount days:\n# 20% of shelf life if bin is '0-1 years', otherwise 10%\ndiscount_fraction = np.where(df['Shelf_Life_Bin'] == '0-1 years', 0.2, 0.1)\ndf['Discount_Date'] = df['Expiration_Date'] - pd.to_timedelta(df['Shelf_Life_(Days)'] * discount_fraction, unit='D')\n\nprint(df.head())",
      "metadata": {
        "trusted": true
      },
      "outputs": [
        {
          "name": "stdout",
          "output_type": "stream",
          "text": "    Product_ID     Product_Name             Catagory  Supplier_ID  \\\n0  29-205-1132       Sushi Rice      Grains & Pulses  38-037-1699   \n1  40-681-9981   Arabica Coffee            Beverages  54-470-2479   \n2  06-955-3428       Black Rice      Grains & Pulses  54-031-2945   \n3  71-594-6552  Long Grain Rice      Grains & Pulses  63-492-7603   \n4  57-437-1828             Plum  Fruits & Vegetables  54-226-4308   \n\n  Supplier_Name  Stock_Quantity  Reorder_Level  Reorder_Quantity Unit_Price  \\\n0     Jaxnation              22             72                70     $4.50    \n1       Feedmix              45             77                 2    $20.00    \n2        Vinder              30             38                83     $6.00    \n3    Brightbean              12             59                62     $1.50    \n4    Topicstorm              37             30                74     $4.00    \n\n  Date_Received Expiration_Date  Shelf_Life_(Days)  Shelf_Life_(Years)  \\\n0    2025-03-16      2025-04-19                 34                0.09   \n1    2024-05-08      2024-11-01                177                0.48   \n2    2025-03-03      2025-04-22                 50                0.14   \n3    2024-04-17      2024-12-08                235                0.64   \n4    2025-02-03      2025-05-05                 91                0.25   \n\n  Shelf_Life_Bin       Discount_Date  \n0      0-1 years 2025-04-12 04:48:00  \n1      0-1 years 2024-09-26 14:24:00  \n2      0-1 years 2025-04-12 00:00:00  \n3      0-1 years 2024-10-22 00:00:00  \n4      0-1 years 2025-04-16 19:12:00  \n"
        }
      ],
      "execution_count": 15
    },
    {
      "id": "66a0d68e-bb55-4a1f-b63d-b561c5de4725",
      "cell_type": "code",
      "source": "# Set donation fraction based on shelf life bin\ndonation_fraction = np.where(df['Shelf_Life_Bin'] == '0-1 years', 0.1, 0.05)\ndf['Donation_Date'] = df['Expiration_Date'] - pd.to_timedelta(df['Shelf_Life_(Days)'] * donation_fraction, unit='D')\n\ndf.head()",
      "metadata": {
        "trusted": true
      },
      "outputs": [
        {
          "execution_count": 16,
          "output_type": "execute_result",
          "data": {
            "text/plain": "    Product_ID     Product_Name             Catagory  Supplier_ID  \\\n0  29-205-1132       Sushi Rice      Grains & Pulses  38-037-1699   \n1  40-681-9981   Arabica Coffee            Beverages  54-470-2479   \n2  06-955-3428       Black Rice      Grains & Pulses  54-031-2945   \n3  71-594-6552  Long Grain Rice      Grains & Pulses  63-492-7603   \n4  57-437-1828             Plum  Fruits & Vegetables  54-226-4308   \n\n  Supplier_Name  Stock_Quantity  Reorder_Level  Reorder_Quantity Unit_Price  \\\n0     Jaxnation              22             72                70     $4.50    \n1       Feedmix              45             77                 2    $20.00    \n2        Vinder              30             38                83     $6.00    \n3    Brightbean              12             59                62     $1.50    \n4    Topicstorm              37             30                74     $4.00    \n\n  Date_Received Expiration_Date  Shelf_Life_(Days)  Shelf_Life_(Years)  \\\n0    2025-03-16      2025-04-19                 34                0.09   \n1    2024-05-08      2024-11-01                177                0.48   \n2    2025-03-03      2025-04-22                 50                0.14   \n3    2024-04-17      2024-12-08                235                0.64   \n4    2025-02-03      2025-05-05                 91                0.25   \n\n  Shelf_Life_Bin       Discount_Date       Donation_Date  \n0      0-1 years 2025-04-12 04:48:00 2025-04-15 14:24:00  \n1      0-1 years 2024-09-26 14:24:00 2024-10-14 07:12:00  \n2      0-1 years 2025-04-12 00:00:00 2025-04-17 00:00:00  \n3      0-1 years 2024-10-22 00:00:00 2024-11-14 12:00:00  \n4      0-1 years 2025-04-16 19:12:00 2025-04-25 21:36:00  ",
            "text/html": "<div>\n<style scoped>\n    .dataframe tbody tr th:only-of-type {\n        vertical-align: middle;\n    }\n\n    .dataframe tbody tr th {\n        vertical-align: top;\n    }\n\n    .dataframe thead th {\n        text-align: right;\n    }\n</style>\n<table border=\"1\" class=\"dataframe\">\n  <thead>\n    <tr style=\"text-align: right;\">\n      <th></th>\n      <th>Product_ID</th>\n      <th>Product_Name</th>\n      <th>Catagory</th>\n      <th>Supplier_ID</th>\n      <th>Supplier_Name</th>\n      <th>Stock_Quantity</th>\n      <th>Reorder_Level</th>\n      <th>Reorder_Quantity</th>\n      <th>Unit_Price</th>\n      <th>Date_Received</th>\n      <th>Expiration_Date</th>\n      <th>Shelf_Life_(Days)</th>\n      <th>Shelf_Life_(Years)</th>\n      <th>Shelf_Life_Bin</th>\n      <th>Discount_Date</th>\n      <th>Donation_Date</th>\n    </tr>\n  </thead>\n  <tbody>\n    <tr>\n      <th>0</th>\n      <td>29-205-1132</td>\n      <td>Sushi Rice</td>\n      <td>Grains &amp; Pulses</td>\n      <td>38-037-1699</td>\n      <td>Jaxnation</td>\n      <td>22</td>\n      <td>72</td>\n      <td>70</td>\n      <td>$4.50</td>\n      <td>2025-03-16</td>\n      <td>2025-04-19</td>\n      <td>34</td>\n      <td>0.09</td>\n      <td>0-1 years</td>\n      <td>2025-04-12 04:48:00</td>\n      <td>2025-04-15 14:24:00</td>\n    </tr>\n    <tr>\n      <th>1</th>\n      <td>40-681-9981</td>\n      <td>Arabica Coffee</td>\n      <td>Beverages</td>\n      <td>54-470-2479</td>\n      <td>Feedmix</td>\n      <td>45</td>\n      <td>77</td>\n      <td>2</td>\n      <td>$20.00</td>\n      <td>2024-05-08</td>\n      <td>2024-11-01</td>\n      <td>177</td>\n      <td>0.48</td>\n      <td>0-1 years</td>\n      <td>2024-09-26 14:24:00</td>\n      <td>2024-10-14 07:12:00</td>\n    </tr>\n    <tr>\n      <th>2</th>\n      <td>06-955-3428</td>\n      <td>Black Rice</td>\n      <td>Grains &amp; Pulses</td>\n      <td>54-031-2945</td>\n      <td>Vinder</td>\n      <td>30</td>\n      <td>38</td>\n      <td>83</td>\n      <td>$6.00</td>\n      <td>2025-03-03</td>\n      <td>2025-04-22</td>\n      <td>50</td>\n      <td>0.14</td>\n      <td>0-1 years</td>\n      <td>2025-04-12 00:00:00</td>\n      <td>2025-04-17 00:00:00</td>\n    </tr>\n    <tr>\n      <th>3</th>\n      <td>71-594-6552</td>\n      <td>Long Grain Rice</td>\n      <td>Grains &amp; Pulses</td>\n      <td>63-492-7603</td>\n      <td>Brightbean</td>\n      <td>12</td>\n      <td>59</td>\n      <td>62</td>\n      <td>$1.50</td>\n      <td>2024-04-17</td>\n      <td>2024-12-08</td>\n      <td>235</td>\n      <td>0.64</td>\n      <td>0-1 years</td>\n      <td>2024-10-22 00:00:00</td>\n      <td>2024-11-14 12:00:00</td>\n    </tr>\n    <tr>\n      <th>4</th>\n      <td>57-437-1828</td>\n      <td>Plum</td>\n      <td>Fruits &amp; Vegetables</td>\n      <td>54-226-4308</td>\n      <td>Topicstorm</td>\n      <td>37</td>\n      <td>30</td>\n      <td>74</td>\n      <td>$4.00</td>\n      <td>2025-02-03</td>\n      <td>2025-05-05</td>\n      <td>91</td>\n      <td>0.25</td>\n      <td>0-1 years</td>\n      <td>2025-04-16 19:12:00</td>\n      <td>2025-04-25 21:36:00</td>\n    </tr>\n  </tbody>\n</table>\n</div>"
          },
          "metadata": {}
        }
      ],
      "execution_count": 16
    },
    {
      "id": "16ccd542-e57b-48c4-8834-31f2fb83de6b",
      "cell_type": "code",
      "source": "curr_date=df['Date_Received'].max()",
      "metadata": {
        "trusted": true
      },
      "outputs": [],
      "execution_count": 17
    },
    {
      "id": "ae7c21fa-746e-40bf-8999-f8fb4e96e8e8",
      "cell_type": "code",
      "source": "# Inventory Table\ninventory_table = df[['Product_ID', 'Product_Name', 'Catagory', 'Supplier_ID', 'Supplier_Name', 'Stock_Quantity', 'Reorder_Level', 'Reorder_Quantity','Unit_Price','Date_Received','Expiration_Date']]",
      "metadata": {
        "trusted": true
      },
      "outputs": [],
      "execution_count": 18
    },
    {
      "id": "67377a2a-1174-449e-826f-d2279b9bda14",
      "cell_type": "code",
      "source": "#Discount Table\ncondition = (df['Discount_Date'] <= curr_date) & (curr_date < df['Donation_Date'])\nselected_columns = ['Product_ID', 'Product_Name', 'Catagory', 'Supplier_ID', 'Supplier_Name', 'Stock_Quantity', 'Reorder_Level', 'Reorder_Quantity','Unit_Price','Date_Received','Expiration_Date','Discount_Date']\n\ndiscount_table = df.loc[condition, selected_columns]\ndiscount_table.head()",
      "metadata": {
        "trusted": true
      },
      "outputs": [
        {
          "execution_count": 19,
          "output_type": "execute_result",
          "data": {
            "text/plain": "      Product_ID  Product_Name             Catagory  Supplier_ID  \\\n40   11-316-8405         Mango  Fruits & Vegetables  50-918-1373   \n54   36-918-2937  Green Coffee            Beverages  53-844-0478   \n105  64-478-4745         Lemon  Fruits & Vegetables  36-780-8625   \n162  76-325-9093    Sesame Oil          Oils & Fats  67-922-3399   \n207  00-215-7434   Egg (Goose)                Dairy  85-272-3969   \n\n     Supplier_Name  Stock_Quantity  Reorder_Level  Reorder_Quantity  \\\n40   Twitternation              24             55                51   \n54           Kwinu              62             89                18   \n105           Mydo              63             81                94   \n162        Feedbug              27             92                56   \n207          Quatz              14             63                74   \n\n    Unit_Price Date_Received Expiration_Date       Discount_Date  \n40      $5.00     2024-11-26      2025-06-25 2025-05-13 19:12:00  \n54     $12.00     2024-10-12      2025-06-28 2025-05-07 04:48:00  \n105     $2.50     2025-01-04      2025-06-19 2025-05-16 19:12:00  \n162     $6.50     2024-11-18      2025-07-18 2025-05-30 14:24:00  \n207     $2.50     2024-11-28      2025-06-28 2025-05-16 14:24:00  ",
            "text/html": "<div>\n<style scoped>\n    .dataframe tbody tr th:only-of-type {\n        vertical-align: middle;\n    }\n\n    .dataframe tbody tr th {\n        vertical-align: top;\n    }\n\n    .dataframe thead th {\n        text-align: right;\n    }\n</style>\n<table border=\"1\" class=\"dataframe\">\n  <thead>\n    <tr style=\"text-align: right;\">\n      <th></th>\n      <th>Product_ID</th>\n      <th>Product_Name</th>\n      <th>Catagory</th>\n      <th>Supplier_ID</th>\n      <th>Supplier_Name</th>\n      <th>Stock_Quantity</th>\n      <th>Reorder_Level</th>\n      <th>Reorder_Quantity</th>\n      <th>Unit_Price</th>\n      <th>Date_Received</th>\n      <th>Expiration_Date</th>\n      <th>Discount_Date</th>\n    </tr>\n  </thead>\n  <tbody>\n    <tr>\n      <th>40</th>\n      <td>11-316-8405</td>\n      <td>Mango</td>\n      <td>Fruits &amp; Vegetables</td>\n      <td>50-918-1373</td>\n      <td>Twitternation</td>\n      <td>24</td>\n      <td>55</td>\n      <td>51</td>\n      <td>$5.00</td>\n      <td>2024-11-26</td>\n      <td>2025-06-25</td>\n      <td>2025-05-13 19:12:00</td>\n    </tr>\n    <tr>\n      <th>54</th>\n      <td>36-918-2937</td>\n      <td>Green Coffee</td>\n      <td>Beverages</td>\n      <td>53-844-0478</td>\n      <td>Kwinu</td>\n      <td>62</td>\n      <td>89</td>\n      <td>18</td>\n      <td>$12.00</td>\n      <td>2024-10-12</td>\n      <td>2025-06-28</td>\n      <td>2025-05-07 04:48:00</td>\n    </tr>\n    <tr>\n      <th>105</th>\n      <td>64-478-4745</td>\n      <td>Lemon</td>\n      <td>Fruits &amp; Vegetables</td>\n      <td>36-780-8625</td>\n      <td>Mydo</td>\n      <td>63</td>\n      <td>81</td>\n      <td>94</td>\n      <td>$2.50</td>\n      <td>2025-01-04</td>\n      <td>2025-06-19</td>\n      <td>2025-05-16 19:12:00</td>\n    </tr>\n    <tr>\n      <th>162</th>\n      <td>76-325-9093</td>\n      <td>Sesame Oil</td>\n      <td>Oils &amp; Fats</td>\n      <td>67-922-3399</td>\n      <td>Feedbug</td>\n      <td>27</td>\n      <td>92</td>\n      <td>56</td>\n      <td>$6.50</td>\n      <td>2024-11-18</td>\n      <td>2025-07-18</td>\n      <td>2025-05-30 14:24:00</td>\n    </tr>\n    <tr>\n      <th>207</th>\n      <td>00-215-7434</td>\n      <td>Egg (Goose)</td>\n      <td>Dairy</td>\n      <td>85-272-3969</td>\n      <td>Quatz</td>\n      <td>14</td>\n      <td>63</td>\n      <td>74</td>\n      <td>$2.50</td>\n      <td>2024-11-28</td>\n      <td>2025-06-28</td>\n      <td>2025-05-16 14:24:00</td>\n    </tr>\n  </tbody>\n</table>\n</div>"
          },
          "metadata": {}
        }
      ],
      "execution_count": 19
    },
    {
      "id": "20ef9d44-5662-4524-bf66-f521cefd1d90",
      "cell_type": "code",
      "source": "#Donation Table\ncondition = (df['Donation_Date'] <= curr_date) & (df['Expiration_Date'] > curr_date)\nselected_columns = ['Product_ID', 'Product_Name', 'Catagory', 'Supplier_ID', 'Supplier_Name', 'Stock_Quantity', 'Reorder_Level', 'Reorder_Quantity','Unit_Price','Date_Received','Expiration_Date','Donation_Date']\n\ndonation_table = df.loc[condition, selected_columns]\ndonation_table.head()",
      "metadata": {
        "trusted": true
      },
      "outputs": [
        {
          "execution_count": 20,
          "output_type": "execute_result",
          "data": {
            "text/plain": "      Product_ID       Product_Name             Catagory  Supplier_ID  \\\n45   90-230-9767    Long Grain Rice      Grains & Pulses  70-515-9048   \n149  19-967-0632   Short Grain Rice      Grains & Pulses  90-445-1753   \n169  10-002-6494              Mango  Fruits & Vegetables  47-509-7282   \n190  98-064-4465  Mozzarella Cheese                Dairy  93-719-9817   \n205  73-118-1117          Olive Oil          Oils & Fats  55-557-8544   \n\n    Supplier_Name  Stock_Quantity  Reorder_Level  Reorder_Quantity Unit_Price  \\\n45         Voonyx              67             88                32     $1.50    \n149         Yombu              53             86                54     $3.00    \n169        Meevee              89             92                62     $4.80    \n190      Feedfire              96             38                17     $7.00    \n205          Layo              52             88                55     $6.00    \n\n    Date_Received Expiration_Date       Donation_Date  \n45     2024-11-06      2025-06-17 2025-05-25 16:48:00  \n149    2025-03-14      2025-06-06 2025-05-28 14:24:00  \n169    2024-10-02      2025-06-11 2025-05-16 19:12:00  \n190    2024-11-19      2025-06-11 2025-05-21 14:24:00  \n205    2024-12-27      2025-06-13 2025-05-27 04:48:00  ",
            "text/html": "<div>\n<style scoped>\n    .dataframe tbody tr th:only-of-type {\n        vertical-align: middle;\n    }\n\n    .dataframe tbody tr th {\n        vertical-align: top;\n    }\n\n    .dataframe thead th {\n        text-align: right;\n    }\n</style>\n<table border=\"1\" class=\"dataframe\">\n  <thead>\n    <tr style=\"text-align: right;\">\n      <th></th>\n      <th>Product_ID</th>\n      <th>Product_Name</th>\n      <th>Catagory</th>\n      <th>Supplier_ID</th>\n      <th>Supplier_Name</th>\n      <th>Stock_Quantity</th>\n      <th>Reorder_Level</th>\n      <th>Reorder_Quantity</th>\n      <th>Unit_Price</th>\n      <th>Date_Received</th>\n      <th>Expiration_Date</th>\n      <th>Donation_Date</th>\n    </tr>\n  </thead>\n  <tbody>\n    <tr>\n      <th>45</th>\n      <td>90-230-9767</td>\n      <td>Long Grain Rice</td>\n      <td>Grains &amp; Pulses</td>\n      <td>70-515-9048</td>\n      <td>Voonyx</td>\n      <td>67</td>\n      <td>88</td>\n      <td>32</td>\n      <td>$1.50</td>\n      <td>2024-11-06</td>\n      <td>2025-06-17</td>\n      <td>2025-05-25 16:48:00</td>\n    </tr>\n    <tr>\n      <th>149</th>\n      <td>19-967-0632</td>\n      <td>Short Grain Rice</td>\n      <td>Grains &amp; Pulses</td>\n      <td>90-445-1753</td>\n      <td>Yombu</td>\n      <td>53</td>\n      <td>86</td>\n      <td>54</td>\n      <td>$3.00</td>\n      <td>2025-03-14</td>\n      <td>2025-06-06</td>\n      <td>2025-05-28 14:24:00</td>\n    </tr>\n    <tr>\n      <th>169</th>\n      <td>10-002-6494</td>\n      <td>Mango</td>\n      <td>Fruits &amp; Vegetables</td>\n      <td>47-509-7282</td>\n      <td>Meevee</td>\n      <td>89</td>\n      <td>92</td>\n      <td>62</td>\n      <td>$4.80</td>\n      <td>2024-10-02</td>\n      <td>2025-06-11</td>\n      <td>2025-05-16 19:12:00</td>\n    </tr>\n    <tr>\n      <th>190</th>\n      <td>98-064-4465</td>\n      <td>Mozzarella Cheese</td>\n      <td>Dairy</td>\n      <td>93-719-9817</td>\n      <td>Feedfire</td>\n      <td>96</td>\n      <td>38</td>\n      <td>17</td>\n      <td>$7.00</td>\n      <td>2024-11-19</td>\n      <td>2025-06-11</td>\n      <td>2025-05-21 14:24:00</td>\n    </tr>\n    <tr>\n      <th>205</th>\n      <td>73-118-1117</td>\n      <td>Olive Oil</td>\n      <td>Oils &amp; Fats</td>\n      <td>55-557-8544</td>\n      <td>Layo</td>\n      <td>52</td>\n      <td>88</td>\n      <td>55</td>\n      <td>$6.00</td>\n      <td>2024-12-27</td>\n      <td>2025-06-13</td>\n      <td>2025-05-27 04:48:00</td>\n    </tr>\n  </tbody>\n</table>\n</div>"
          },
          "metadata": {}
        }
      ],
      "execution_count": 20
    },
    {
      "id": "8ef04e6f-4995-4dfb-a40a-c867436b9bba",
      "cell_type": "code",
      "source": "#Expired Table\ncondition =  (df['Expiration_Date'] <= curr_date)\nselected_columns = ['Product_ID', 'Product_Name', 'Catagory', 'Supplier_ID', 'Supplier_Name', 'Stock_Quantity', 'Reorder_Level', 'Reorder_Quantity','Unit_Price','Date_Received','Expiration_Date']\n\nexpired_table = df.loc[condition, selected_columns]\nexpired_table.head()",
      "metadata": {
        "trusted": true
      },
      "outputs": [
        {
          "execution_count": 21,
          "output_type": "execute_result",
          "data": {
            "text/plain": "    Product_ID     Product_Name             Catagory  Supplier_ID  \\\n0  29-205-1132       Sushi Rice      Grains & Pulses  38-037-1699   \n1  40-681-9981   Arabica Coffee            Beverages  54-470-2479   \n2  06-955-3428       Black Rice      Grains & Pulses  54-031-2945   \n3  71-594-6552  Long Grain Rice      Grains & Pulses  63-492-7603   \n4  57-437-1828             Plum  Fruits & Vegetables  54-226-4308   \n\n  Supplier_Name  Stock_Quantity  Reorder_Level  Reorder_Quantity Unit_Price  \\\n0     Jaxnation              22             72                70     $4.50    \n1       Feedmix              45             77                 2    $20.00    \n2        Vinder              30             38                83     $6.00    \n3    Brightbean              12             59                62     $1.50    \n4    Topicstorm              37             30                74     $4.00    \n\n  Date_Received Expiration_Date  \n0    2025-03-16      2025-04-19  \n1    2024-05-08      2024-11-01  \n2    2025-03-03      2025-04-22  \n3    2024-04-17      2024-12-08  \n4    2025-02-03      2025-05-05  ",
            "text/html": "<div>\n<style scoped>\n    .dataframe tbody tr th:only-of-type {\n        vertical-align: middle;\n    }\n\n    .dataframe tbody tr th {\n        vertical-align: top;\n    }\n\n    .dataframe thead th {\n        text-align: right;\n    }\n</style>\n<table border=\"1\" class=\"dataframe\">\n  <thead>\n    <tr style=\"text-align: right;\">\n      <th></th>\n      <th>Product_ID</th>\n      <th>Product_Name</th>\n      <th>Catagory</th>\n      <th>Supplier_ID</th>\n      <th>Supplier_Name</th>\n      <th>Stock_Quantity</th>\n      <th>Reorder_Level</th>\n      <th>Reorder_Quantity</th>\n      <th>Unit_Price</th>\n      <th>Date_Received</th>\n      <th>Expiration_Date</th>\n    </tr>\n  </thead>\n  <tbody>\n    <tr>\n      <th>0</th>\n      <td>29-205-1132</td>\n      <td>Sushi Rice</td>\n      <td>Grains &amp; Pulses</td>\n      <td>38-037-1699</td>\n      <td>Jaxnation</td>\n      <td>22</td>\n      <td>72</td>\n      <td>70</td>\n      <td>$4.50</td>\n      <td>2025-03-16</td>\n      <td>2025-04-19</td>\n    </tr>\n    <tr>\n      <th>1</th>\n      <td>40-681-9981</td>\n      <td>Arabica Coffee</td>\n      <td>Beverages</td>\n      <td>54-470-2479</td>\n      <td>Feedmix</td>\n      <td>45</td>\n      <td>77</td>\n      <td>2</td>\n      <td>$20.00</td>\n      <td>2024-05-08</td>\n      <td>2024-11-01</td>\n    </tr>\n    <tr>\n      <th>2</th>\n      <td>06-955-3428</td>\n      <td>Black Rice</td>\n      <td>Grains &amp; Pulses</td>\n      <td>54-031-2945</td>\n      <td>Vinder</td>\n      <td>30</td>\n      <td>38</td>\n      <td>83</td>\n      <td>$6.00</td>\n      <td>2025-03-03</td>\n      <td>2025-04-22</td>\n    </tr>\n    <tr>\n      <th>3</th>\n      <td>71-594-6552</td>\n      <td>Long Grain Rice</td>\n      <td>Grains &amp; Pulses</td>\n      <td>63-492-7603</td>\n      <td>Brightbean</td>\n      <td>12</td>\n      <td>59</td>\n      <td>62</td>\n      <td>$1.50</td>\n      <td>2024-04-17</td>\n      <td>2024-12-08</td>\n    </tr>\n    <tr>\n      <th>4</th>\n      <td>57-437-1828</td>\n      <td>Plum</td>\n      <td>Fruits &amp; Vegetables</td>\n      <td>54-226-4308</td>\n      <td>Topicstorm</td>\n      <td>37</td>\n      <td>30</td>\n      <td>74</td>\n      <td>$4.00</td>\n      <td>2025-02-03</td>\n      <td>2025-05-05</td>\n    </tr>\n  </tbody>\n</table>\n</div>"
          },
          "metadata": {}
        }
      ],
      "execution_count": 21
    },
    {
      "id": "4cb01405-42a0-4f9d-9b42-3c136c52fff5",
      "cell_type": "code",
      "source": "#Fresh Table\ncondition =  (df['Discount_Date'] > curr_date)\nselected_columns = ['Product_ID', 'Product_Name', 'Catagory', 'Supplier_ID', 'Supplier_Name', 'Stock_Quantity', 'Reorder_Level', 'Reorder_Quantity','Unit_Price','Date_Received','Expiration_Date']\n\nfresh_table = df.loc[condition, selected_columns]\nfresh_table.head()",
      "metadata": {
        "trusted": true
      },
      "outputs": [
        {
          "execution_count": 22,
          "output_type": "execute_result",
          "data": {
            "text/plain": "     Product_ID     Product_Name             Catagory  Supplier_ID  \\\n19  76-854-0095      White Sugar      Grains & Pulses  38-883-3382   \n28  31-211-5803  Oatmeal Biscuit               Bakery  75-503-9347   \n29  16-499-5059             Pear  Fruits & Vegetables  09-090-6360   \n34  73-401-5721          Haddock              Seafood  38-622-5251   \n36  54-109-8062       Sushi Rice      Grains & Pulses  04-726-3363   \n\n   Supplier_Name  Stock_Quantity  Reorder_Level  Reorder_Quantity Unit_Price  \\\n19         Mydeo              65             61                82     $2.00    \n28      Gigazoom              16              9                32     $5.00    \n29       Centizu              77             20                 5     $4.50    \n34         Midel              46             28                73     $9.00    \n36     Linklinks              75             69               100     $4.50    \n\n   Date_Received Expiration_Date  \n19    2024-12-31      2025-07-28  \n28    2025-02-16      2025-09-07  \n29    2025-03-18      2025-07-20  \n34    2024-12-28      2025-07-26  \n36    2025-02-11      2025-09-16  ",
            "text/html": "<div>\n<style scoped>\n    .dataframe tbody tr th:only-of-type {\n        vertical-align: middle;\n    }\n\n    .dataframe tbody tr th {\n        vertical-align: top;\n    }\n\n    .dataframe thead th {\n        text-align: right;\n    }\n</style>\n<table border=\"1\" class=\"dataframe\">\n  <thead>\n    <tr style=\"text-align: right;\">\n      <th></th>\n      <th>Product_ID</th>\n      <th>Product_Name</th>\n      <th>Catagory</th>\n      <th>Supplier_ID</th>\n      <th>Supplier_Name</th>\n      <th>Stock_Quantity</th>\n      <th>Reorder_Level</th>\n      <th>Reorder_Quantity</th>\n      <th>Unit_Price</th>\n      <th>Date_Received</th>\n      <th>Expiration_Date</th>\n    </tr>\n  </thead>\n  <tbody>\n    <tr>\n      <th>19</th>\n      <td>76-854-0095</td>\n      <td>White Sugar</td>\n      <td>Grains &amp; Pulses</td>\n      <td>38-883-3382</td>\n      <td>Mydeo</td>\n      <td>65</td>\n      <td>61</td>\n      <td>82</td>\n      <td>$2.00</td>\n      <td>2024-12-31</td>\n      <td>2025-07-28</td>\n    </tr>\n    <tr>\n      <th>28</th>\n      <td>31-211-5803</td>\n      <td>Oatmeal Biscuit</td>\n      <td>Bakery</td>\n      <td>75-503-9347</td>\n      <td>Gigazoom</td>\n      <td>16</td>\n      <td>9</td>\n      <td>32</td>\n      <td>$5.00</td>\n      <td>2025-02-16</td>\n      <td>2025-09-07</td>\n    </tr>\n    <tr>\n      <th>29</th>\n      <td>16-499-5059</td>\n      <td>Pear</td>\n      <td>Fruits &amp; Vegetables</td>\n      <td>09-090-6360</td>\n      <td>Centizu</td>\n      <td>77</td>\n      <td>20</td>\n      <td>5</td>\n      <td>$4.50</td>\n      <td>2025-03-18</td>\n      <td>2025-07-20</td>\n    </tr>\n    <tr>\n      <th>34</th>\n      <td>73-401-5721</td>\n      <td>Haddock</td>\n      <td>Seafood</td>\n      <td>38-622-5251</td>\n      <td>Midel</td>\n      <td>46</td>\n      <td>28</td>\n      <td>73</td>\n      <td>$9.00</td>\n      <td>2024-12-28</td>\n      <td>2025-07-26</td>\n    </tr>\n    <tr>\n      <th>36</th>\n      <td>54-109-8062</td>\n      <td>Sushi Rice</td>\n      <td>Grains &amp; Pulses</td>\n      <td>04-726-3363</td>\n      <td>Linklinks</td>\n      <td>75</td>\n      <td>69</td>\n      <td>100</td>\n      <td>$4.50</td>\n      <td>2025-02-11</td>\n      <td>2025-09-16</td>\n    </tr>\n  </tbody>\n</table>\n</div>"
          },
          "metadata": {}
        }
      ],
      "execution_count": 22
    },
    {
      "id": "6184c68c-d6cb-47d2-8c02-d884dd8918c4",
      "cell_type": "code",
      "source": "len(fresh_table)+len(expired_table)+len(discount_table)+len(donation_table)",
      "metadata": {
        "trusted": true
      },
      "outputs": [
        {
          "execution_count": 23,
          "output_type": "execute_result",
          "data": {
            "text/plain": "989"
          },
          "metadata": {}
        }
      ],
      "execution_count": 23
    },
    {
      "id": "149d923c-8ab3-4be1-a9bb-87c179b0cf14",
      "cell_type": "code",
      "source": "len(df)",
      "metadata": {
        "trusted": true
      },
      "outputs": [
        {
          "execution_count": 24,
          "output_type": "execute_result",
          "data": {
            "text/plain": "989"
          },
          "metadata": {}
        }
      ],
      "execution_count": 24
    },
    {
      "id": "0717c0ad-fb78-42d9-af6d-37aba2405638",
      "cell_type": "code",
      "source": "",
      "metadata": {
        "trusted": true
      },
      "outputs": [],
      "execution_count": null
    },
    {
      "id": "38b274ad-9be8-466a-9c74-3b635b2aabec",
      "cell_type": "code",
      "source": "",
      "metadata": {
        "trusted": true
      },
      "outputs": [],
      "execution_count": null
    }
  ]
}