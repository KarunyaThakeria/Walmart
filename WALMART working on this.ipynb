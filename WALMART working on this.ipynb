{
 "cells": [
  {
   "cell_type": "code",
   "execution_count": 1,
   "id": "2479a553-1323-412f-a55c-6c6fb216358d",
   "metadata": {},
   "outputs": [],
   "source": [
    "import pandas as pd\n",
    "import numpy as np\n",
    "import math\n",
    "from pandas.tseries.offsets import DateOffset\n",
    "from datetime import timedelta"
   ]
  },
  {
   "cell_type": "code",
   "execution_count": 2,
   "id": "95abac1b-9778-415d-ae42-0d97ef739f46",
   "metadata": {},
   "outputs": [
    {
     "data": {
      "text/html": [
       "<div>\n",
       "<style scoped>\n",
       "    .dataframe tbody tr th:only-of-type {\n",
       "        vertical-align: middle;\n",
       "    }\n",
       "\n",
       "    .dataframe tbody tr th {\n",
       "        vertical-align: top;\n",
       "    }\n",
       "\n",
       "    .dataframe thead th {\n",
       "        text-align: right;\n",
       "    }\n",
       "</style>\n",
       "<table border=\"1\" class=\"dataframe\">\n",
       "  <thead>\n",
       "    <tr style=\"text-align: right;\">\n",
       "      <th></th>\n",
       "      <th>Product_ID</th>\n",
       "      <th>Product_Name</th>\n",
       "      <th>Catagory</th>\n",
       "      <th>Supplier_ID</th>\n",
       "      <th>Supplier_Name</th>\n",
       "      <th>Stock_Quantity</th>\n",
       "      <th>Reorder_Level</th>\n",
       "      <th>Reorder_Quantity</th>\n",
       "      <th>Unit_Price</th>\n",
       "      <th>Date_Received</th>\n",
       "      <th>Last_Order_Date</th>\n",
       "      <th>Expiration_Date</th>\n",
       "      <th>Warehouse_Location</th>\n",
       "      <th>Sales_Volume</th>\n",
       "      <th>Inventory_Turnover_Rate</th>\n",
       "      <th>Status</th>\n",
       "    </tr>\n",
       "  </thead>\n",
       "  <tbody>\n",
       "    <tr>\n",
       "      <th>0</th>\n",
       "      <td>29-205-1132</td>\n",
       "      <td>Sushi Rice</td>\n",
       "      <td>Grains &amp; Pulses</td>\n",
       "      <td>38-037-1699</td>\n",
       "      <td>Jaxnation</td>\n",
       "      <td>22</td>\n",
       "      <td>72</td>\n",
       "      <td>70</td>\n",
       "      <td>$4.50</td>\n",
       "      <td>8/16/2024</td>\n",
       "      <td>6/29/2024</td>\n",
       "      <td>9/19/2024</td>\n",
       "      <td>48 Del Sol Trail</td>\n",
       "      <td>32</td>\n",
       "      <td>19</td>\n",
       "      <td>Discontinued</td>\n",
       "    </tr>\n",
       "    <tr>\n",
       "      <th>1</th>\n",
       "      <td>40-681-9981</td>\n",
       "      <td>Arabica Coffee</td>\n",
       "      <td>Beverages</td>\n",
       "      <td>54-470-2479</td>\n",
       "      <td>Feedmix</td>\n",
       "      <td>45</td>\n",
       "      <td>77</td>\n",
       "      <td>2</td>\n",
       "      <td>$20.00</td>\n",
       "      <td>11/1/2024</td>\n",
       "      <td>5/29/2024</td>\n",
       "      <td>5/8/2024</td>\n",
       "      <td>36 3rd Place</td>\n",
       "      <td>85</td>\n",
       "      <td>1</td>\n",
       "      <td>Discontinued</td>\n",
       "    </tr>\n",
       "    <tr>\n",
       "      <th>2</th>\n",
       "      <td>06-955-3428</td>\n",
       "      <td>Black Rice</td>\n",
       "      <td>Grains &amp; Pulses</td>\n",
       "      <td>54-031-2945</td>\n",
       "      <td>Vinder</td>\n",
       "      <td>30</td>\n",
       "      <td>38</td>\n",
       "      <td>83</td>\n",
       "      <td>$6.00</td>\n",
       "      <td>8/3/2024</td>\n",
       "      <td>6/10/2024</td>\n",
       "      <td>9/22/2024</td>\n",
       "      <td>3296 Walton Court</td>\n",
       "      <td>31</td>\n",
       "      <td>34</td>\n",
       "      <td>Backordered</td>\n",
       "    </tr>\n",
       "    <tr>\n",
       "      <th>3</th>\n",
       "      <td>71-594-6552</td>\n",
       "      <td>Long Grain Rice</td>\n",
       "      <td>Grains &amp; Pulses</td>\n",
       "      <td>63-492-7603</td>\n",
       "      <td>Brightbean</td>\n",
       "      <td>12</td>\n",
       "      <td>59</td>\n",
       "      <td>62</td>\n",
       "      <td>$1.50</td>\n",
       "      <td>12/8/2024</td>\n",
       "      <td>2/19/2025</td>\n",
       "      <td>4/17/2024</td>\n",
       "      <td>3 Westerfield Crossing</td>\n",
       "      <td>95</td>\n",
       "      <td>99</td>\n",
       "      <td>Active</td>\n",
       "    </tr>\n",
       "    <tr>\n",
       "      <th>4</th>\n",
       "      <td>57-437-1828</td>\n",
       "      <td>Plum</td>\n",
       "      <td>Fruits &amp; Vegetables</td>\n",
       "      <td>54-226-4308</td>\n",
       "      <td>Topicstorm</td>\n",
       "      <td>37</td>\n",
       "      <td>30</td>\n",
       "      <td>74</td>\n",
       "      <td>$4.00</td>\n",
       "      <td>7/3/2024</td>\n",
       "      <td>10/11/2024</td>\n",
       "      <td>10/5/2024</td>\n",
       "      <td>15068 Scoville Court</td>\n",
       "      <td>62</td>\n",
       "      <td>25</td>\n",
       "      <td>Backordered</td>\n",
       "    </tr>\n",
       "  </tbody>\n",
       "</table>\n",
       "</div>"
      ],
      "text/plain": [
       "    Product_ID     Product_Name             Catagory  Supplier_ID  \\\n",
       "0  29-205-1132       Sushi Rice      Grains & Pulses  38-037-1699   \n",
       "1  40-681-9981   Arabica Coffee            Beverages  54-470-2479   \n",
       "2  06-955-3428       Black Rice      Grains & Pulses  54-031-2945   \n",
       "3  71-594-6552  Long Grain Rice      Grains & Pulses  63-492-7603   \n",
       "4  57-437-1828             Plum  Fruits & Vegetables  54-226-4308   \n",
       "\n",
       "  Supplier_Name  Stock_Quantity  Reorder_Level  Reorder_Quantity Unit_Price  \\\n",
       "0     Jaxnation              22             72                70     $4.50    \n",
       "1       Feedmix              45             77                 2    $20.00    \n",
       "2        Vinder              30             38                83     $6.00    \n",
       "3    Brightbean              12             59                62     $1.50    \n",
       "4    Topicstorm              37             30                74     $4.00    \n",
       "\n",
       "  Date_Received Last_Order_Date Expiration_Date      Warehouse_Location  \\\n",
       "0     8/16/2024       6/29/2024       9/19/2024        48 Del Sol Trail   \n",
       "1     11/1/2024       5/29/2024        5/8/2024            36 3rd Place   \n",
       "2      8/3/2024       6/10/2024       9/22/2024       3296 Walton Court   \n",
       "3     12/8/2024       2/19/2025       4/17/2024  3 Westerfield Crossing   \n",
       "4      7/3/2024      10/11/2024       10/5/2024    15068 Scoville Court   \n",
       "\n",
       "   Sales_Volume  Inventory_Turnover_Rate        Status  \n",
       "0            32                       19  Discontinued  \n",
       "1            85                        1  Discontinued  \n",
       "2            31                       34   Backordered  \n",
       "3            95                       99        Active  \n",
       "4            62                       25   Backordered  "
      ]
     },
     "execution_count": 2,
     "metadata": {},
     "output_type": "execute_result"
    }
   ],
   "source": [
    "df=pd.read_csv(\"Grocery_Inventory_and_Sales_Dataset.csv\")\n",
    "df.head()"
   ]
  },
  {
   "cell_type": "code",
   "execution_count": 3,
   "id": "a4e18148-4c93-4148-bf87-424d92b7d941",
   "metadata": {},
   "outputs": [
    {
     "data": {
      "text/plain": [
       "Product_ID                 0\n",
       "Product_Name               0\n",
       "Catagory                   1\n",
       "Supplier_ID                0\n",
       "Supplier_Name              0\n",
       "Stock_Quantity             0\n",
       "Reorder_Level              0\n",
       "Reorder_Quantity           0\n",
       "Unit_Price                 0\n",
       "Date_Received              0\n",
       "Last_Order_Date            0\n",
       "Expiration_Date            0\n",
       "Warehouse_Location         0\n",
       "Sales_Volume               0\n",
       "Inventory_Turnover_Rate    0\n",
       "Status                     0\n",
       "dtype: int64"
      ]
     },
     "execution_count": 3,
     "metadata": {},
     "output_type": "execute_result"
    }
   ],
   "source": [
    "df.isnull().sum()"
   ]
  },
  {
   "cell_type": "code",
   "execution_count": 4,
   "id": "e4c1ab55-8c5d-4268-ab1d-a09658467344",
   "metadata": {},
   "outputs": [],
   "source": [
    "df=df.dropna()"
   ]
  },
  {
   "cell_type": "code",
   "execution_count": 5,
   "id": "d26c1720-1acd-47e5-8e3b-685e5bbb3b6a",
   "metadata": {},
   "outputs": [
    {
     "data": {
      "text/plain": [
       "Product_ID                 0\n",
       "Product_Name               0\n",
       "Catagory                   0\n",
       "Supplier_ID                0\n",
       "Supplier_Name              0\n",
       "Stock_Quantity             0\n",
       "Reorder_Level              0\n",
       "Reorder_Quantity           0\n",
       "Unit_Price                 0\n",
       "Date_Received              0\n",
       "Last_Order_Date            0\n",
       "Expiration_Date            0\n",
       "Warehouse_Location         0\n",
       "Sales_Volume               0\n",
       "Inventory_Turnover_Rate    0\n",
       "Status                     0\n",
       "dtype: int64"
      ]
     },
     "execution_count": 5,
     "metadata": {},
     "output_type": "execute_result"
    }
   ],
   "source": [
    "df.isnull().sum()"
   ]
  },
  {
   "cell_type": "code",
   "execution_count": 6,
   "id": "bda7dc98-e676-4646-b1a3-11ece21a5ff4",
   "metadata": {},
   "outputs": [
    {
     "data": {
      "text/plain": [
       "989"
      ]
     },
     "execution_count": 6,
     "metadata": {},
     "output_type": "execute_result"
    }
   ],
   "source": [
    "#del unwanted col\n",
    "df = df.drop(['Last_Order_Date', 'Warehouse_Location','Sales_Volume','Inventory_Turnover_Rate','Status' ], axis=1)\n",
    "len(df)"
   ]
  },
  {
   "cell_type": "code",
   "execution_count": 7,
   "id": "ed649ca6-d36b-4007-9122-931c68f91ad3",
   "metadata": {},
   "outputs": [
    {
     "data": {
      "text/html": [
       "<div>\n",
       "<style scoped>\n",
       "    .dataframe tbody tr th:only-of-type {\n",
       "        vertical-align: middle;\n",
       "    }\n",
       "\n",
       "    .dataframe tbody tr th {\n",
       "        vertical-align: top;\n",
       "    }\n",
       "\n",
       "    .dataframe thead th {\n",
       "        text-align: right;\n",
       "    }\n",
       "</style>\n",
       "<table border=\"1\" class=\"dataframe\">\n",
       "  <thead>\n",
       "    <tr style=\"text-align: right;\">\n",
       "      <th></th>\n",
       "      <th>Product_ID</th>\n",
       "      <th>Product_Name</th>\n",
       "      <th>Catagory</th>\n",
       "      <th>Supplier_ID</th>\n",
       "      <th>Supplier_Name</th>\n",
       "      <th>Stock_Quantity</th>\n",
       "      <th>Reorder_Level</th>\n",
       "      <th>Reorder_Quantity</th>\n",
       "      <th>Unit_Price</th>\n",
       "      <th>Date_Received</th>\n",
       "      <th>Expiration_Date</th>\n",
       "    </tr>\n",
       "  </thead>\n",
       "  <tbody>\n",
       "    <tr>\n",
       "      <th>0</th>\n",
       "      <td>29-205-1132</td>\n",
       "      <td>Sushi Rice</td>\n",
       "      <td>Grains &amp; Pulses</td>\n",
       "      <td>38-037-1699</td>\n",
       "      <td>Jaxnation</td>\n",
       "      <td>22</td>\n",
       "      <td>72</td>\n",
       "      <td>70</td>\n",
       "      <td>$4.50</td>\n",
       "      <td>8/16/2024</td>\n",
       "      <td>9/19/2024</td>\n",
       "    </tr>\n",
       "    <tr>\n",
       "      <th>1</th>\n",
       "      <td>40-681-9981</td>\n",
       "      <td>Arabica Coffee</td>\n",
       "      <td>Beverages</td>\n",
       "      <td>54-470-2479</td>\n",
       "      <td>Feedmix</td>\n",
       "      <td>45</td>\n",
       "      <td>77</td>\n",
       "      <td>2</td>\n",
       "      <td>$20.00</td>\n",
       "      <td>11/1/2024</td>\n",
       "      <td>5/8/2024</td>\n",
       "    </tr>\n",
       "    <tr>\n",
       "      <th>2</th>\n",
       "      <td>06-955-3428</td>\n",
       "      <td>Black Rice</td>\n",
       "      <td>Grains &amp; Pulses</td>\n",
       "      <td>54-031-2945</td>\n",
       "      <td>Vinder</td>\n",
       "      <td>30</td>\n",
       "      <td>38</td>\n",
       "      <td>83</td>\n",
       "      <td>$6.00</td>\n",
       "      <td>8/3/2024</td>\n",
       "      <td>9/22/2024</td>\n",
       "    </tr>\n",
       "    <tr>\n",
       "      <th>3</th>\n",
       "      <td>71-594-6552</td>\n",
       "      <td>Long Grain Rice</td>\n",
       "      <td>Grains &amp; Pulses</td>\n",
       "      <td>63-492-7603</td>\n",
       "      <td>Brightbean</td>\n",
       "      <td>12</td>\n",
       "      <td>59</td>\n",
       "      <td>62</td>\n",
       "      <td>$1.50</td>\n",
       "      <td>12/8/2024</td>\n",
       "      <td>4/17/2024</td>\n",
       "    </tr>\n",
       "    <tr>\n",
       "      <th>4</th>\n",
       "      <td>57-437-1828</td>\n",
       "      <td>Plum</td>\n",
       "      <td>Fruits &amp; Vegetables</td>\n",
       "      <td>54-226-4308</td>\n",
       "      <td>Topicstorm</td>\n",
       "      <td>37</td>\n",
       "      <td>30</td>\n",
       "      <td>74</td>\n",
       "      <td>$4.00</td>\n",
       "      <td>7/3/2024</td>\n",
       "      <td>10/5/2024</td>\n",
       "    </tr>\n",
       "  </tbody>\n",
       "</table>\n",
       "</div>"
      ],
      "text/plain": [
       "    Product_ID     Product_Name             Catagory  Supplier_ID  \\\n",
       "0  29-205-1132       Sushi Rice      Grains & Pulses  38-037-1699   \n",
       "1  40-681-9981   Arabica Coffee            Beverages  54-470-2479   \n",
       "2  06-955-3428       Black Rice      Grains & Pulses  54-031-2945   \n",
       "3  71-594-6552  Long Grain Rice      Grains & Pulses  63-492-7603   \n",
       "4  57-437-1828             Plum  Fruits & Vegetables  54-226-4308   \n",
       "\n",
       "  Supplier_Name  Stock_Quantity  Reorder_Level  Reorder_Quantity Unit_Price  \\\n",
       "0     Jaxnation              22             72                70     $4.50    \n",
       "1       Feedmix              45             77                 2    $20.00    \n",
       "2        Vinder              30             38                83     $6.00    \n",
       "3    Brightbean              12             59                62     $1.50    \n",
       "4    Topicstorm              37             30                74     $4.00    \n",
       "\n",
       "  Date_Received Expiration_Date  \n",
       "0     8/16/2024       9/19/2024  \n",
       "1     11/1/2024        5/8/2024  \n",
       "2      8/3/2024       9/22/2024  \n",
       "3     12/8/2024       4/17/2024  \n",
       "4      7/3/2024       10/5/2024  "
      ]
     },
     "execution_count": 7,
     "metadata": {},
     "output_type": "execute_result"
    }
   ],
   "source": [
    "df.head()"
   ]
  },
  {
   "cell_type": "code",
   "execution_count": 8,
   "id": "3547e274-e357-4be5-9df7-9a8e4c3a0518",
   "metadata": {},
   "outputs": [
    {
     "data": {
      "text/plain": [
       "\"\\n#swap\\ncols = list(df.columns)\\ni = cols.index('Date_Received')\\nj = cols.index('Expiration_Date')\\ncols[i], cols[j] = cols[j], cols[i]\\ndf.columns = cols\\ndf.head()\\n\""
      ]
     },
     "execution_count": 8,
     "metadata": {},
     "output_type": "execute_result"
    }
   ],
   "source": [
    "'''\n",
    "#swap\n",
    "cols = list(df.columns)\n",
    "i = cols.index('Date_Received')\n",
    "j = cols.index('Expiration_Date')\n",
    "cols[i], cols[j] = cols[j], cols[i]\n",
    "df.columns = cols\n",
    "df.head()\n",
    "'''\n"
   ]
  },
  {
   "cell_type": "code",
   "execution_count": 9,
   "id": "e627e4ba-3dd6-4f48-a2c2-bdd7a10f7d20",
   "metadata": {},
   "outputs": [
    {
     "name": "stdout",
     "output_type": "stream",
     "text": [
      "  Date_Received Expiration_Date  Shelf_Life_(Days)\n",
      "0    2024-08-16      2024-09-19                 34\n",
      "1    2024-11-01      2024-05-08               -177\n",
      "2    2024-08-03      2024-09-22                 50\n",
      "3    2024-12-08      2024-04-17               -235\n",
      "4    2024-07-03      2024-10-05                 94\n"
     ]
    },
    {
     "data": {
      "text/plain": [
       "989"
      ]
     },
     "execution_count": 9,
     "metadata": {},
     "output_type": "execute_result"
    }
   ],
   "source": [
    "df['Expiration_Date'] = pd.to_datetime(df['Expiration_Date'], format='%m/%d/%Y',errors='coerce')\n",
    "df['Date_Received'] = pd.to_datetime(df['Date_Received'], format='%m/%d/%Y',errors='coerce')\n",
    "\n",
    "# Calculate shelf life in days\n",
    "df['Shelf_Life_(Days)'] = (df['Expiration_Date'] - df['Date_Received']).dt.days\n",
    "\n",
    "# View a few rows\n",
    "print(df[['Date_Received', 'Expiration_Date', 'Shelf_Life_(Days)']].head())\n",
    "len(df)"
   ]
  },
  {
   "cell_type": "code",
   "execution_count": 10,
   "id": "d024585a-d12e-4cef-a929-48e33a51de5e",
   "metadata": {},
   "outputs": [
    {
     "name": "stdout",
     "output_type": "stream",
     "text": [
      "  Date_Received Expiration_Date  Shelf_Life_(Days)\n",
      "0    2024-08-16      2024-09-19                 34\n",
      "1    2024-05-08      2024-11-01                177\n",
      "2    2024-08-03      2024-09-22                 50\n",
      "3    2024-04-17      2024-12-08                235\n",
      "4    2024-07-03      2024-10-05                 94\n"
     ]
    },
    {
     "data": {
      "text/plain": [
       "989"
      ]
     },
     "execution_count": 10,
     "metadata": {},
     "output_type": "execute_result"
    }
   ],
   "source": [
    "#swap exp n recieved date of products with shelflife <0\n",
    "'''df = df[df['Shelf_Life_(Days)'] >= 0]'''\n",
    "# Swap values only where Shelf_Life_(Days) < 0\n",
    "mask = df['Shelf_Life_(Days)'] < 0\n",
    "\n",
    "# Use .loc to safely swap the values conditionally\n",
    "df.loc[mask, ['Date_Received', 'Expiration_Date']] = df.loc[mask, ['Expiration_Date', 'Date_Received']].values\n",
    "\n",
    "df['Shelf_Life_(Days)'] = (df['Expiration_Date'] - df['Date_Received']).dt.days\n",
    "\n",
    "print(df[['Date_Received', 'Expiration_Date', 'Shelf_Life_(Days)']].head())\n",
    "len(df)"
   ]
  },
  {
   "cell_type": "code",
   "execution_count": 11,
   "id": "38c97412-bf4a-476e-8e04-f1f972c7d67b",
   "metadata": {},
   "outputs": [
    {
     "name": "stdout",
     "output_type": "stream",
     "text": [
      "  Date_Received Expiration_Date  Shelf_Life_(Days)  Shelf_Life_(Years)\n",
      "0    2024-08-16      2024-09-19                 34                0.09\n",
      "1    2024-05-08      2024-11-01                177                0.48\n",
      "2    2024-08-03      2024-09-22                 50                0.14\n",
      "3    2024-04-17      2024-12-08                235                0.64\n",
      "4    2024-07-03      2024-10-05                 94                0.26\n"
     ]
    },
    {
     "data": {
      "text/plain": [
       "989"
      ]
     },
     "execution_count": 11,
     "metadata": {},
     "output_type": "execute_result"
    }
   ],
   "source": [
    "df['Shelf_Life_(Years)'] = (df['Shelf_Life_(Days)']/365).round(2)\n",
    "print(df[['Date_Received', 'Expiration_Date', 'Shelf_Life_(Days)','Shelf_Life_(Years)']].head())\n",
    "len(df)"
   ]
  },
  {
   "cell_type": "code",
   "execution_count": 12,
   "id": "26ce1085-cee4-43cb-bd8a-c2c134a0e2ca",
   "metadata": {},
   "outputs": [
    {
     "name": "stdout",
     "output_type": "stream",
     "text": [
      "Shelf_Life_Bin\n",
      "0-1 years    988\n",
      "Name: count, dtype: int64\n"
     ]
    },
    {
     "data": {
      "text/plain": [
       "989"
      ]
     },
     "execution_count": 12,
     "metadata": {},
     "output_type": "execute_result"
    }
   ],
   "source": [
    "max_years = math.ceil(df['Shelf_Life_(Years)'].max())\n",
    "bins = list(range(0, max_years + 1))\n",
    "labels = [f'{i}-{i+1} years' for i in range(0, max_years)]\n",
    "df['Shelf_Life_Bin'] = pd.cut(df['Shelf_Life_(Years)'], bins=bins, labels=labels, right=False)\n",
    "shelf_life_distribution = df['Shelf_Life_Bin'].value_counts().sort_index()\n",
    "print(shelf_life_distribution)\n",
    "len(df)"
   ]
  },
  {
   "cell_type": "code",
   "execution_count": 13,
   "id": "0949cef0-2a8d-49b9-8b95-f68b3569dbd1",
   "metadata": {},
   "outputs": [
    {
     "data": {
      "text/plain": [
       "989"
      ]
     },
     "execution_count": 13,
     "metadata": {},
     "output_type": "execute_result"
    }
   ],
   "source": [
    "len(df)"
   ]
  },
  {
   "cell_type": "code",
   "execution_count": 14,
   "id": "34e8d5ba-e1c2-47ef-a313-6429354de7ff",
   "metadata": {},
   "outputs": [
    {
     "data": {
      "text/html": [
       "<div>\n",
       "<style scoped>\n",
       "    .dataframe tbody tr th:only-of-type {\n",
       "        vertical-align: middle;\n",
       "    }\n",
       "\n",
       "    .dataframe tbody tr th {\n",
       "        vertical-align: top;\n",
       "    }\n",
       "\n",
       "    .dataframe thead th {\n",
       "        text-align: right;\n",
       "    }\n",
       "</style>\n",
       "<table border=\"1\" class=\"dataframe\">\n",
       "  <thead>\n",
       "    <tr style=\"text-align: right;\">\n",
       "      <th></th>\n",
       "      <th>Product_ID</th>\n",
       "      <th>Product_Name</th>\n",
       "      <th>Catagory</th>\n",
       "      <th>Supplier_ID</th>\n",
       "      <th>Supplier_Name</th>\n",
       "      <th>Stock_Quantity</th>\n",
       "      <th>Reorder_Level</th>\n",
       "      <th>Reorder_Quantity</th>\n",
       "      <th>Unit_Price</th>\n",
       "      <th>Date_Received</th>\n",
       "      <th>Expiration_Date</th>\n",
       "      <th>Shelf_Life_(Days)</th>\n",
       "      <th>Shelf_Life_(Years)</th>\n",
       "      <th>Shelf_Life_Bin</th>\n",
       "    </tr>\n",
       "  </thead>\n",
       "  <tbody>\n",
       "    <tr>\n",
       "      <th>0</th>\n",
       "      <td>29-205-1132</td>\n",
       "      <td>Sushi Rice</td>\n",
       "      <td>Grains &amp; Pulses</td>\n",
       "      <td>38-037-1699</td>\n",
       "      <td>Jaxnation</td>\n",
       "      <td>22</td>\n",
       "      <td>72</td>\n",
       "      <td>70</td>\n",
       "      <td>$4.50</td>\n",
       "      <td>2024-08-16</td>\n",
       "      <td>2024-09-19</td>\n",
       "      <td>34</td>\n",
       "      <td>0.09</td>\n",
       "      <td>0-1 years</td>\n",
       "    </tr>\n",
       "    <tr>\n",
       "      <th>1</th>\n",
       "      <td>40-681-9981</td>\n",
       "      <td>Arabica Coffee</td>\n",
       "      <td>Beverages</td>\n",
       "      <td>54-470-2479</td>\n",
       "      <td>Feedmix</td>\n",
       "      <td>45</td>\n",
       "      <td>77</td>\n",
       "      <td>2</td>\n",
       "      <td>$20.00</td>\n",
       "      <td>2024-05-08</td>\n",
       "      <td>2024-11-01</td>\n",
       "      <td>177</td>\n",
       "      <td>0.48</td>\n",
       "      <td>0-1 years</td>\n",
       "    </tr>\n",
       "    <tr>\n",
       "      <th>2</th>\n",
       "      <td>06-955-3428</td>\n",
       "      <td>Black Rice</td>\n",
       "      <td>Grains &amp; Pulses</td>\n",
       "      <td>54-031-2945</td>\n",
       "      <td>Vinder</td>\n",
       "      <td>30</td>\n",
       "      <td>38</td>\n",
       "      <td>83</td>\n",
       "      <td>$6.00</td>\n",
       "      <td>2024-08-03</td>\n",
       "      <td>2024-09-22</td>\n",
       "      <td>50</td>\n",
       "      <td>0.14</td>\n",
       "      <td>0-1 years</td>\n",
       "    </tr>\n",
       "    <tr>\n",
       "      <th>3</th>\n",
       "      <td>71-594-6552</td>\n",
       "      <td>Long Grain Rice</td>\n",
       "      <td>Grains &amp; Pulses</td>\n",
       "      <td>63-492-7603</td>\n",
       "      <td>Brightbean</td>\n",
       "      <td>12</td>\n",
       "      <td>59</td>\n",
       "      <td>62</td>\n",
       "      <td>$1.50</td>\n",
       "      <td>2024-04-17</td>\n",
       "      <td>2024-12-08</td>\n",
       "      <td>235</td>\n",
       "      <td>0.64</td>\n",
       "      <td>0-1 years</td>\n",
       "    </tr>\n",
       "    <tr>\n",
       "      <th>4</th>\n",
       "      <td>57-437-1828</td>\n",
       "      <td>Plum</td>\n",
       "      <td>Fruits &amp; Vegetables</td>\n",
       "      <td>54-226-4308</td>\n",
       "      <td>Topicstorm</td>\n",
       "      <td>37</td>\n",
       "      <td>30</td>\n",
       "      <td>74</td>\n",
       "      <td>$4.00</td>\n",
       "      <td>2024-07-03</td>\n",
       "      <td>2024-10-05</td>\n",
       "      <td>94</td>\n",
       "      <td>0.26</td>\n",
       "      <td>0-1 years</td>\n",
       "    </tr>\n",
       "  </tbody>\n",
       "</table>\n",
       "</div>"
      ],
      "text/plain": [
       "    Product_ID     Product_Name             Catagory  Supplier_ID  \\\n",
       "0  29-205-1132       Sushi Rice      Grains & Pulses  38-037-1699   \n",
       "1  40-681-9981   Arabica Coffee            Beverages  54-470-2479   \n",
       "2  06-955-3428       Black Rice      Grains & Pulses  54-031-2945   \n",
       "3  71-594-6552  Long Grain Rice      Grains & Pulses  63-492-7603   \n",
       "4  57-437-1828             Plum  Fruits & Vegetables  54-226-4308   \n",
       "\n",
       "  Supplier_Name  Stock_Quantity  Reorder_Level  Reorder_Quantity Unit_Price  \\\n",
       "0     Jaxnation              22             72                70     $4.50    \n",
       "1       Feedmix              45             77                 2    $20.00    \n",
       "2        Vinder              30             38                83     $6.00    \n",
       "3    Brightbean              12             59                62     $1.50    \n",
       "4    Topicstorm              37             30                74     $4.00    \n",
       "\n",
       "  Date_Received Expiration_Date  Shelf_Life_(Days)  Shelf_Life_(Years)  \\\n",
       "0    2024-08-16      2024-09-19                 34                0.09   \n",
       "1    2024-05-08      2024-11-01                177                0.48   \n",
       "2    2024-08-03      2024-09-22                 50                0.14   \n",
       "3    2024-04-17      2024-12-08                235                0.64   \n",
       "4    2024-07-03      2024-10-05                 94                0.26   \n",
       "\n",
       "  Shelf_Life_Bin  \n",
       "0      0-1 years  \n",
       "1      0-1 years  \n",
       "2      0-1 years  \n",
       "3      0-1 years  \n",
       "4      0-1 years  "
      ]
     },
     "execution_count": 14,
     "metadata": {},
     "output_type": "execute_result"
    }
   ],
   "source": [
    "df=df.copy()\n",
    "df.reset_index(drop=True,inplace=True)\n",
    "df.head()"
   ]
  },
  {
   "cell_type": "code",
   "execution_count": 15,
   "id": "71ad53b7-57ac-4055-93b2-e3f9ee9f7a4a",
   "metadata": {},
   "outputs": [
    {
     "data": {
      "text/plain": [
       "989"
      ]
     },
     "execution_count": 15,
     "metadata": {},
     "output_type": "execute_result"
    }
   ],
   "source": [
    "len(df)"
   ]
  },
  {
   "cell_type": "code",
   "execution_count": null,
   "id": "fbd8e5ef-308e-4b84-bac8-0de37d42fe30",
   "metadata": {},
   "outputs": [],
   "source": []
  },
  {
   "cell_type": "code",
   "execution_count": null,
   "id": "58cb578c-3535-4290-8cac-632c80faed96",
   "metadata": {},
   "outputs": [],
   "source": []
  },
  {
   "cell_type": "code",
   "execution_count": 16,
   "id": "886d04a3-9831-4e15-87b3-71fe2e98325b",
   "metadata": {},
   "outputs": [
    {
     "name": "stdout",
     "output_type": "stream",
     "text": [
      "265\n"
     ]
    }
   ],
   "source": [
    "#exp\n",
    "#curr_date=df['Date_Received'].max()\n",
    "curr_date='2025-01-01'\n",
    "expired_items = df[df['Expiration_Date'] < curr_date]\n",
    "not_exp=len(df)-expired_items.shape[0]\n",
    "print(not_exp)"
   ]
  },
  {
   "cell_type": "code",
   "execution_count": 17,
   "id": "07d2d640-a94a-4d82-8bef-2b295e4caeb1",
   "metadata": {},
   "outputs": [
    {
     "data": {
      "text/plain": [
       "969"
      ]
     },
     "execution_count": 17,
     "metadata": {},
     "output_type": "execute_result"
    }
   ],
   "source": [
    "len(df[df['Date_Received']<curr_date])"
   ]
  },
  {
   "cell_type": "code",
   "execution_count": null,
   "id": "e6edac47-843b-46e3-863b-413be755dc07",
   "metadata": {},
   "outputs": [],
   "source": []
  },
  {
   "cell_type": "code",
   "execution_count": 18,
   "id": "fe2a5f75-c1fe-40b9-b42b-74cde2526bab",
   "metadata": {},
   "outputs": [
    {
     "data": {
      "text/plain": [
       "' tables=expiered, discount, donation\\ncreate status in i_table\\n\\n'"
      ]
     },
     "execution_count": 18,
     "metadata": {},
     "output_type": "execute_result"
    }
   ],
   "source": [
    "#setting curr date as 2025-02-09\n",
    "''' tables=expiered, discount, donation\n",
    "create status in i_table\n",
    "\n",
    "'''"
   ]
  },
  {
   "cell_type": "code",
   "execution_count": null,
   "id": "a69cf7ef-9ffb-48b3-8658-b6baa7935fa5",
   "metadata": {},
   "outputs": [],
   "source": []
  },
  {
   "cell_type": "code",
   "execution_count": 19,
   "id": "e0dc0c9f-7f4d-4624-b484-df4d379bb61c",
   "metadata": {},
   "outputs": [
    {
     "name": "stdout",
     "output_type": "stream",
     "text": [
      "  Date_Received Expiration_Date\n",
      "0    2025-03-16      2025-04-19\n",
      "1    2024-12-08      2025-06-01\n",
      "2    2025-03-03      2025-04-22\n",
      "3    2024-11-17      2025-07-08\n",
      "4    2025-02-03      2025-05-05\n"
     ]
    }
   ],
   "source": [
    "condition = df['Date_Received'] < pd.Timestamp('2024-11-01')\n",
    "\n",
    "# Apply 7-month shift only to matching rows\n",
    "df.loc[condition, 'Date_Received'] = df.loc[condition, 'Date_Received'] + pd.DateOffset(months=7)\n",
    "df.loc[condition, 'Expiration_Date'] = df.loc[condition, 'Expiration_Date'] + pd.DateOffset(months=7)\n",
    "\n",
    "# View result\n",
    "print(df[['Date_Received', 'Expiration_Date']].head())"
   ]
  },
  {
   "cell_type": "code",
   "execution_count": 20,
   "id": "cff2dfdf-a0d6-484d-beb3-bffeaf54d0e6",
   "metadata": {},
   "outputs": [
    {
     "data": {
      "text/plain": [
       "Timestamp('2025-05-31 00:00:00')"
      ]
     },
     "execution_count": 20,
     "metadata": {},
     "output_type": "execute_result"
    }
   ],
   "source": [
    "df['Date_Received'].max()"
   ]
  },
  {
   "cell_type": "code",
   "execution_count": 21,
   "id": "b8ce6ccf-83c7-4743-b937-3aefb1f93139",
   "metadata": {},
   "outputs": [
    {
     "data": {
      "text/plain": [
       "Timestamp('2024-09-25 00:00:00')"
      ]
     },
     "execution_count": 21,
     "metadata": {},
     "output_type": "execute_result"
    }
   ],
   "source": [
    "df['Date_Received'].min()"
   ]
  },
  {
   "cell_type": "code",
   "execution_count": 22,
   "id": "08abc946-b825-4380-b170-d2f590cd7607",
   "metadata": {},
   "outputs": [
    {
     "name": "stdout",
     "output_type": "stream",
     "text": [
      "425\n"
     ]
    }
   ],
   "source": [
    "#abhi bas moths aage karke dekh rhe hai\n",
    "curr_date=df['Date_Received'].max()\n",
    "expired_items = df[df['Expiration_Date'] < curr_date]\n",
    "not_exp=len(df)-expired_items.shape[0]\n",
    "print(not_exp)"
   ]
  },
  {
   "cell_type": "code",
   "execution_count": null,
   "id": "726bc7a8-d5b3-47d6-bb90-47779887af67",
   "metadata": {},
   "outputs": [],
   "source": []
  },
  {
   "cell_type": "code",
   "execution_count": null,
   "id": "fe0d465a-bbac-4ee4-9cf8-dcd7634b37b2",
   "metadata": {},
   "outputs": [],
   "source": [
    "\n"
   ]
  },
  {
   "cell_type": "code",
   "execution_count": 23,
   "id": "986a802f-3469-447e-937d-390e0de8a986",
   "metadata": {},
   "outputs": [
    {
     "name": "stdout",
     "output_type": "stream",
     "text": [
      "  Date_Received Expiration_Date  Shelf_Life_(Days)\n",
      "0    2025-03-16      2025-04-19                 34\n",
      "1    2024-12-08      2025-06-01                175\n",
      "2    2025-03-03      2025-04-22                 50\n",
      "3    2024-11-17      2025-07-08                233\n",
      "4    2025-02-03      2025-05-05                 91\n"
     ]
    }
   ],
   "source": [
    "\n",
    "# Calculate shelf life in days\n",
    "df['Shelf_Life_(Days)'] = (df['Expiration_Date'] - df['Date_Received']).dt.days\n",
    "\n",
    "# View a few rows\n",
    "print(df[['Date_Received', 'Expiration_Date', 'Shelf_Life_(Days)']].head())\n"
   ]
  },
  {
   "cell_type": "code",
   "execution_count": 24,
   "id": "a1602758-7e1e-440a-a3d7-63d70016da62",
   "metadata": {},
   "outputs": [],
   "source": [
    "#making col for donation and discount dates in df"
   ]
  },
  {
   "cell_type": "code",
   "execution_count": 25,
   "id": "2b314618-bda6-4252-9051-550e6e43a661",
   "metadata": {},
   "outputs": [
    {
     "name": "stdout",
     "output_type": "stream",
     "text": [
      "  Expiration_Date  Shelf_Life_(Days) Shelf_Life_Bin       Discount_Date  \\\n",
      "0      2025-04-19                 34      0-1 years 2025-04-12 04:48:00   \n",
      "1      2025-06-01                175      0-1 years 2025-04-27 00:00:00   \n",
      "2      2025-04-22                 50      0-1 years 2025-04-12 00:00:00   \n",
      "3      2025-07-08                233      0-1 years 2025-05-22 09:36:00   \n",
      "4      2025-05-05                 91      0-1 years 2025-04-16 19:12:00   \n",
      "\n",
      "  Date_Received  \n",
      "0    2025-03-16  \n",
      "1    2024-12-08  \n",
      "2    2025-03-03  \n",
      "3    2024-11-17  \n",
      "4    2025-02-03  \n"
     ]
    }
   ],
   "source": [
    "df['Expiration_Date'] = pd.to_datetime(df['Expiration_Date'], format='%m/%d/%Y')\n",
    "\n",
    "# Apply conditional logic for discount days:\n",
    "# 20% of shelf life if bin is '0-1 years', otherwise 10%\n",
    "discount_fraction = np.where(df['Shelf_Life_Bin'] == '0-1 years', 0.2, 0.1)\n",
    "\n",
    "# Calculate Discount_Date accordingly\n",
    "df['Discount_Date'] = df['Expiration_Date'] - pd.to_timedelta(df['Shelf_Life_(Days)'] * discount_fraction, unit='D')\n",
    "\n",
    "# View result\n",
    "print(df[['Expiration_Date', 'Shelf_Life_(Days)', 'Shelf_Life_Bin', 'Discount_Date', 'Date_Received']].head())"
   ]
  },
  {
   "cell_type": "code",
   "execution_count": 26,
   "id": "66a0d68e-bb55-4a1f-b63d-b561c5de4725",
   "metadata": {},
   "outputs": [
    {
     "name": "stdout",
     "output_type": "stream",
     "text": [
      "  Expiration_Date  Shelf_Life_(Days) Shelf_Life_Bin       Donation_Date  \\\n",
      "0      2025-04-19                 34      0-1 years 2025-04-15 14:24:00   \n",
      "1      2025-06-01                175      0-1 years 2025-05-14 12:00:00   \n",
      "2      2025-04-22                 50      0-1 years 2025-04-17 00:00:00   \n",
      "3      2025-07-08                233      0-1 years 2025-06-14 16:48:00   \n",
      "4      2025-05-05                 91      0-1 years 2025-04-25 21:36:00   \n",
      "\n",
      "  Date_Received  \n",
      "0    2025-03-16  \n",
      "1    2024-12-08  \n",
      "2    2025-03-03  \n",
      "3    2024-11-17  \n",
      "4    2025-02-03  \n"
     ]
    }
   ],
   "source": [
    "df['Expiration_Date'] = pd.to_datetime(df['Expiration_Date'], format='%m/%d/%Y')\n",
    "\n",
    "# Set donation fraction based on shelf life bin\n",
    "donation_fraction = np.where(df['Shelf_Life_Bin'] == '0-1 years', 0.1, 0.05)\n",
    "\n",
    "# Calculate Donation_Date accordingly\n",
    "df['Donation_Date'] = df['Expiration_Date'] - pd.to_timedelta(df['Shelf_Life_(Days)'] * donation_fraction, unit='D')\n",
    "\n",
    "# View result\n",
    "print(df[['Expiration_Date', 'Shelf_Life_(Days)', 'Shelf_Life_Bin', 'Donation_Date', 'Date_Received']].head())"
   ]
  },
  {
   "cell_type": "code",
   "execution_count": null,
   "id": "92a574ff-7ee2-4852-81f3-657b86322ab4",
   "metadata": {},
   "outputs": [],
   "source": []
  },
  {
   "cell_type": "code",
   "execution_count": 27,
   "id": "ae7c21fa-746e-40bf-8999-f8fb4e96e8e8",
   "metadata": {},
   "outputs": [],
   "source": [
    "# Inventory_table\n",
    "inventory_table = df[['Product_ID', 'Product_Name', 'Catagory', 'Supplier_ID', 'Supplier_Name', 'Stock_Quantity', 'Reorder_Level', 'Reorder_Quantity','Unit_Price','Date_Received','Expiration_Date']]"
   ]
  },
  {
   "cell_type": "code",
   "execution_count": 28,
   "id": "f9827e54-43ff-469f-a31e-038332804d27",
   "metadata": {},
   "outputs": [
    {
     "data": {
      "text/html": [
       "<div>\n",
       "<style scoped>\n",
       "    .dataframe tbody tr th:only-of-type {\n",
       "        vertical-align: middle;\n",
       "    }\n",
       "\n",
       "    .dataframe tbody tr th {\n",
       "        vertical-align: top;\n",
       "    }\n",
       "\n",
       "    .dataframe thead th {\n",
       "        text-align: right;\n",
       "    }\n",
       "</style>\n",
       "<table border=\"1\" class=\"dataframe\">\n",
       "  <thead>\n",
       "    <tr style=\"text-align: right;\">\n",
       "      <th></th>\n",
       "      <th>Product_ID</th>\n",
       "      <th>Product_Name</th>\n",
       "      <th>Catagory</th>\n",
       "      <th>Supplier_ID</th>\n",
       "      <th>Supplier_Name</th>\n",
       "      <th>Stock_Quantity</th>\n",
       "      <th>Reorder_Level</th>\n",
       "      <th>Reorder_Quantity</th>\n",
       "      <th>Unit_Price</th>\n",
       "      <th>Date_Received</th>\n",
       "      <th>Expiration_Date</th>\n",
       "      <th>Shelf_Life_(Days)</th>\n",
       "      <th>Shelf_Life_(Years)</th>\n",
       "      <th>Shelf_Life_Bin</th>\n",
       "      <th>Discount_Date</th>\n",
       "      <th>Donation_Date</th>\n",
       "    </tr>\n",
       "  </thead>\n",
       "  <tbody>\n",
       "    <tr>\n",
       "      <th>0</th>\n",
       "      <td>29-205-1132</td>\n",
       "      <td>Sushi Rice</td>\n",
       "      <td>Grains &amp; Pulses</td>\n",
       "      <td>38-037-1699</td>\n",
       "      <td>Jaxnation</td>\n",
       "      <td>22</td>\n",
       "      <td>72</td>\n",
       "      <td>70</td>\n",
       "      <td>$4.50</td>\n",
       "      <td>2025-03-16</td>\n",
       "      <td>2025-04-19</td>\n",
       "      <td>34</td>\n",
       "      <td>0.09</td>\n",
       "      <td>0-1 years</td>\n",
       "      <td>2025-04-12 04:48:00</td>\n",
       "      <td>2025-04-15 14:24:00</td>\n",
       "    </tr>\n",
       "    <tr>\n",
       "      <th>1</th>\n",
       "      <td>40-681-9981</td>\n",
       "      <td>Arabica Coffee</td>\n",
       "      <td>Beverages</td>\n",
       "      <td>54-470-2479</td>\n",
       "      <td>Feedmix</td>\n",
       "      <td>45</td>\n",
       "      <td>77</td>\n",
       "      <td>2</td>\n",
       "      <td>$20.00</td>\n",
       "      <td>2024-12-08</td>\n",
       "      <td>2025-06-01</td>\n",
       "      <td>175</td>\n",
       "      <td>0.48</td>\n",
       "      <td>0-1 years</td>\n",
       "      <td>2025-04-27 00:00:00</td>\n",
       "      <td>2025-05-14 12:00:00</td>\n",
       "    </tr>\n",
       "    <tr>\n",
       "      <th>2</th>\n",
       "      <td>06-955-3428</td>\n",
       "      <td>Black Rice</td>\n",
       "      <td>Grains &amp; Pulses</td>\n",
       "      <td>54-031-2945</td>\n",
       "      <td>Vinder</td>\n",
       "      <td>30</td>\n",
       "      <td>38</td>\n",
       "      <td>83</td>\n",
       "      <td>$6.00</td>\n",
       "      <td>2025-03-03</td>\n",
       "      <td>2025-04-22</td>\n",
       "      <td>50</td>\n",
       "      <td>0.14</td>\n",
       "      <td>0-1 years</td>\n",
       "      <td>2025-04-12 00:00:00</td>\n",
       "      <td>2025-04-17 00:00:00</td>\n",
       "    </tr>\n",
       "    <tr>\n",
       "      <th>3</th>\n",
       "      <td>71-594-6552</td>\n",
       "      <td>Long Grain Rice</td>\n",
       "      <td>Grains &amp; Pulses</td>\n",
       "      <td>63-492-7603</td>\n",
       "      <td>Brightbean</td>\n",
       "      <td>12</td>\n",
       "      <td>59</td>\n",
       "      <td>62</td>\n",
       "      <td>$1.50</td>\n",
       "      <td>2024-11-17</td>\n",
       "      <td>2025-07-08</td>\n",
       "      <td>233</td>\n",
       "      <td>0.64</td>\n",
       "      <td>0-1 years</td>\n",
       "      <td>2025-05-22 09:36:00</td>\n",
       "      <td>2025-06-14 16:48:00</td>\n",
       "    </tr>\n",
       "    <tr>\n",
       "      <th>4</th>\n",
       "      <td>57-437-1828</td>\n",
       "      <td>Plum</td>\n",
       "      <td>Fruits &amp; Vegetables</td>\n",
       "      <td>54-226-4308</td>\n",
       "      <td>Topicstorm</td>\n",
       "      <td>37</td>\n",
       "      <td>30</td>\n",
       "      <td>74</td>\n",
       "      <td>$4.00</td>\n",
       "      <td>2025-02-03</td>\n",
       "      <td>2025-05-05</td>\n",
       "      <td>91</td>\n",
       "      <td>0.26</td>\n",
       "      <td>0-1 years</td>\n",
       "      <td>2025-04-16 19:12:00</td>\n",
       "      <td>2025-04-25 21:36:00</td>\n",
       "    </tr>\n",
       "  </tbody>\n",
       "</table>\n",
       "</div>"
      ],
      "text/plain": [
       "    Product_ID     Product_Name             Catagory  Supplier_ID  \\\n",
       "0  29-205-1132       Sushi Rice      Grains & Pulses  38-037-1699   \n",
       "1  40-681-9981   Arabica Coffee            Beverages  54-470-2479   \n",
       "2  06-955-3428       Black Rice      Grains & Pulses  54-031-2945   \n",
       "3  71-594-6552  Long Grain Rice      Grains & Pulses  63-492-7603   \n",
       "4  57-437-1828             Plum  Fruits & Vegetables  54-226-4308   \n",
       "\n",
       "  Supplier_Name  Stock_Quantity  Reorder_Level  Reorder_Quantity Unit_Price  \\\n",
       "0     Jaxnation              22             72                70     $4.50    \n",
       "1       Feedmix              45             77                 2    $20.00    \n",
       "2        Vinder              30             38                83     $6.00    \n",
       "3    Brightbean              12             59                62     $1.50    \n",
       "4    Topicstorm              37             30                74     $4.00    \n",
       "\n",
       "  Date_Received Expiration_Date  Shelf_Life_(Days)  Shelf_Life_(Years)  \\\n",
       "0    2025-03-16      2025-04-19                 34                0.09   \n",
       "1    2024-12-08      2025-06-01                175                0.48   \n",
       "2    2025-03-03      2025-04-22                 50                0.14   \n",
       "3    2024-11-17      2025-07-08                233                0.64   \n",
       "4    2025-02-03      2025-05-05                 91                0.26   \n",
       "\n",
       "  Shelf_Life_Bin       Discount_Date       Donation_Date  \n",
       "0      0-1 years 2025-04-12 04:48:00 2025-04-15 14:24:00  \n",
       "1      0-1 years 2025-04-27 00:00:00 2025-05-14 12:00:00  \n",
       "2      0-1 years 2025-04-12 00:00:00 2025-04-17 00:00:00  \n",
       "3      0-1 years 2025-05-22 09:36:00 2025-06-14 16:48:00  \n",
       "4      0-1 years 2025-04-16 19:12:00 2025-04-25 21:36:00  "
      ]
     },
     "execution_count": 28,
     "metadata": {},
     "output_type": "execute_result"
    }
   ],
   "source": [
    "df.head()"
   ]
  },
  {
   "cell_type": "code",
   "execution_count": 29,
   "id": "67377a2a-1174-449e-826f-d2279b9bda14",
   "metadata": {},
   "outputs": [
    {
     "data": {
      "text/html": [
       "<div>\n",
       "<style scoped>\n",
       "    .dataframe tbody tr th:only-of-type {\n",
       "        vertical-align: middle;\n",
       "    }\n",
       "\n",
       "    .dataframe tbody tr th {\n",
       "        vertical-align: top;\n",
       "    }\n",
       "\n",
       "    .dataframe thead th {\n",
       "        text-align: right;\n",
       "    }\n",
       "</style>\n",
       "<table border=\"1\" class=\"dataframe\">\n",
       "  <thead>\n",
       "    <tr style=\"text-align: right;\">\n",
       "      <th></th>\n",
       "      <th>Product_ID</th>\n",
       "      <th>Product_Name</th>\n",
       "      <th>Catagory</th>\n",
       "      <th>Supplier_ID</th>\n",
       "      <th>Supplier_Name</th>\n",
       "      <th>Stock_Quantity</th>\n",
       "      <th>Reorder_Level</th>\n",
       "      <th>Reorder_Quantity</th>\n",
       "      <th>Unit_Price</th>\n",
       "      <th>Date_Received</th>\n",
       "      <th>Expiration_Date</th>\n",
       "      <th>Discount_Date</th>\n",
       "    </tr>\n",
       "  </thead>\n",
       "  <tbody>\n",
       "    <tr>\n",
       "      <th>3</th>\n",
       "      <td>71-594-6552</td>\n",
       "      <td>Long Grain Rice</td>\n",
       "      <td>Grains &amp; Pulses</td>\n",
       "      <td>63-492-7603</td>\n",
       "      <td>Brightbean</td>\n",
       "      <td>12</td>\n",
       "      <td>59</td>\n",
       "      <td>62</td>\n",
       "      <td>$1.50</td>\n",
       "      <td>2024-11-17</td>\n",
       "      <td>2025-07-08</td>\n",
       "      <td>2025-05-22 09:36:00</td>\n",
       "    </tr>\n",
       "    <tr>\n",
       "      <th>9</th>\n",
       "      <td>46-452-9419</td>\n",
       "      <td>Egg (Duck)</td>\n",
       "      <td>Dairy</td>\n",
       "      <td>67-137-4215</td>\n",
       "      <td>Wordify</td>\n",
       "      <td>43</td>\n",
       "      <td>10</td>\n",
       "      <td>15</td>\n",
       "      <td>$1.00</td>\n",
       "      <td>2025-02-08</td>\n",
       "      <td>2025-06-18</td>\n",
       "      <td>2025-05-23 00:00:00</td>\n",
       "    </tr>\n",
       "    <tr>\n",
       "      <th>40</th>\n",
       "      <td>11-316-8405</td>\n",
       "      <td>Mango</td>\n",
       "      <td>Fruits &amp; Vegetables</td>\n",
       "      <td>50-918-1373</td>\n",
       "      <td>Twitternation</td>\n",
       "      <td>24</td>\n",
       "      <td>55</td>\n",
       "      <td>51</td>\n",
       "      <td>$5.00</td>\n",
       "      <td>2024-11-26</td>\n",
       "      <td>2025-06-25</td>\n",
       "      <td>2025-05-13 19:12:00</td>\n",
       "    </tr>\n",
       "    <tr>\n",
       "      <th>54</th>\n",
       "      <td>36-918-2937</td>\n",
       "      <td>Green Coffee</td>\n",
       "      <td>Beverages</td>\n",
       "      <td>53-844-0478</td>\n",
       "      <td>Kwinu</td>\n",
       "      <td>62</td>\n",
       "      <td>89</td>\n",
       "      <td>18</td>\n",
       "      <td>$12.00</td>\n",
       "      <td>2024-10-12</td>\n",
       "      <td>2025-06-28</td>\n",
       "      <td>2025-05-07 04:48:00</td>\n",
       "    </tr>\n",
       "    <tr>\n",
       "      <th>66</th>\n",
       "      <td>20-225-3930</td>\n",
       "      <td>White Tea</td>\n",
       "      <td>Beverages</td>\n",
       "      <td>73-069-2753</td>\n",
       "      <td>Skipstorm</td>\n",
       "      <td>99</td>\n",
       "      <td>87</td>\n",
       "      <td>10</td>\n",
       "      <td>$25.00</td>\n",
       "      <td>2024-10-17</td>\n",
       "      <td>2025-07-08</td>\n",
       "      <td>2025-05-16 04:48:00</td>\n",
       "    </tr>\n",
       "  </tbody>\n",
       "</table>\n",
       "</div>"
      ],
      "text/plain": [
       "     Product_ID     Product_Name             Catagory  Supplier_ID  \\\n",
       "3   71-594-6552  Long Grain Rice      Grains & Pulses  63-492-7603   \n",
       "9   46-452-9419       Egg (Duck)                Dairy  67-137-4215   \n",
       "40  11-316-8405            Mango  Fruits & Vegetables  50-918-1373   \n",
       "54  36-918-2937     Green Coffee            Beverages  53-844-0478   \n",
       "66  20-225-3930        White Tea            Beverages  73-069-2753   \n",
       "\n",
       "    Supplier_Name  Stock_Quantity  Reorder_Level  Reorder_Quantity Unit_Price  \\\n",
       "3      Brightbean              12             59                62     $1.50    \n",
       "9         Wordify              43             10                15     $1.00    \n",
       "40  Twitternation              24             55                51     $5.00    \n",
       "54          Kwinu              62             89                18    $12.00    \n",
       "66      Skipstorm              99             87                10    $25.00    \n",
       "\n",
       "   Date_Received Expiration_Date       Discount_Date  \n",
       "3     2024-11-17      2025-07-08 2025-05-22 09:36:00  \n",
       "9     2025-02-08      2025-06-18 2025-05-23 00:00:00  \n",
       "40    2024-11-26      2025-06-25 2025-05-13 19:12:00  \n",
       "54    2024-10-12      2025-06-28 2025-05-07 04:48:00  \n",
       "66    2024-10-17      2025-07-08 2025-05-16 04:48:00  "
      ]
     },
     "execution_count": 29,
     "metadata": {},
     "output_type": "execute_result"
    }
   ],
   "source": [
    "condition = (df['Discount_Date'] <= curr_date) & (curr_date < df['Donation_Date'])\n",
    "selected_columns = ['Product_ID', 'Product_Name', 'Catagory', 'Supplier_ID', 'Supplier_Name', 'Stock_Quantity', 'Reorder_Level', 'Reorder_Quantity','Unit_Price','Date_Received','Expiration_Date','Discount_Date']\n",
    "\n",
    "# Create discount table\n",
    "discount_table = df.loc[condition, selected_columns]\n",
    "\n",
    "# View result\n",
    "discount_table.head()\n"
   ]
  },
  {
   "cell_type": "code",
   "execution_count": 30,
   "id": "20ef9d44-5662-4524-bf66-f521cefd1d90",
   "metadata": {},
   "outputs": [
    {
     "data": {
      "text/html": [
       "<div>\n",
       "<style scoped>\n",
       "    .dataframe tbody tr th:only-of-type {\n",
       "        vertical-align: middle;\n",
       "    }\n",
       "\n",
       "    .dataframe tbody tr th {\n",
       "        vertical-align: top;\n",
       "    }\n",
       "\n",
       "    .dataframe thead th {\n",
       "        text-align: right;\n",
       "    }\n",
       "</style>\n",
       "<table border=\"1\" class=\"dataframe\">\n",
       "  <thead>\n",
       "    <tr style=\"text-align: right;\">\n",
       "      <th></th>\n",
       "      <th>Product_ID</th>\n",
       "      <th>Product_Name</th>\n",
       "      <th>Catagory</th>\n",
       "      <th>Supplier_ID</th>\n",
       "      <th>Supplier_Name</th>\n",
       "      <th>Stock_Quantity</th>\n",
       "      <th>Reorder_Level</th>\n",
       "      <th>Reorder_Quantity</th>\n",
       "      <th>Unit_Price</th>\n",
       "      <th>Date_Received</th>\n",
       "      <th>Expiration_Date</th>\n",
       "      <th>Donation_Date</th>\n",
       "    </tr>\n",
       "  </thead>\n",
       "  <tbody>\n",
       "    <tr>\n",
       "      <th>1</th>\n",
       "      <td>40-681-9981</td>\n",
       "      <td>Arabica Coffee</td>\n",
       "      <td>Beverages</td>\n",
       "      <td>54-470-2479</td>\n",
       "      <td>Feedmix</td>\n",
       "      <td>45</td>\n",
       "      <td>77</td>\n",
       "      <td>2</td>\n",
       "      <td>$20.00</td>\n",
       "      <td>2024-12-08</td>\n",
       "      <td>2025-06-01</td>\n",
       "      <td>2025-05-14 12:00:00</td>\n",
       "    </tr>\n",
       "    <tr>\n",
       "      <th>16</th>\n",
       "      <td>55-936-2406</td>\n",
       "      <td>Bread Flour</td>\n",
       "      <td>Grains &amp; Pulses</td>\n",
       "      <td>29-689-5014</td>\n",
       "      <td>Mynte</td>\n",
       "      <td>27</td>\n",
       "      <td>93</td>\n",
       "      <td>88</td>\n",
       "      <td>$1.50</td>\n",
       "      <td>2024-11-05</td>\n",
       "      <td>2025-06-16</td>\n",
       "      <td>2025-05-24 16:48:00</td>\n",
       "    </tr>\n",
       "    <tr>\n",
       "      <th>26</th>\n",
       "      <td>02-508-3777</td>\n",
       "      <td>Egg (Quail)</td>\n",
       "      <td>Dairy</td>\n",
       "      <td>69-933-2582</td>\n",
       "      <td>Realpoint</td>\n",
       "      <td>97</td>\n",
       "      <td>88</td>\n",
       "      <td>81</td>\n",
       "      <td>$0.80</td>\n",
       "      <td>2025-01-26</td>\n",
       "      <td>2025-06-05</td>\n",
       "      <td>2025-05-23 00:00:00</td>\n",
       "    </tr>\n",
       "    <tr>\n",
       "      <th>33</th>\n",
       "      <td>79-136-9840</td>\n",
       "      <td>Herbal Tea</td>\n",
       "      <td>Beverages</td>\n",
       "      <td>07-809-0926</td>\n",
       "      <td>Pixonyx</td>\n",
       "      <td>77</td>\n",
       "      <td>45</td>\n",
       "      <td>75</td>\n",
       "      <td>$30.00</td>\n",
       "      <td>2025-01-23</td>\n",
       "      <td>2025-06-05</td>\n",
       "      <td>2025-05-22 16:48:00</td>\n",
       "    </tr>\n",
       "    <tr>\n",
       "      <th>45</th>\n",
       "      <td>90-230-9767</td>\n",
       "      <td>Long Grain Rice</td>\n",
       "      <td>Grains &amp; Pulses</td>\n",
       "      <td>70-515-9048</td>\n",
       "      <td>Voonyx</td>\n",
       "      <td>67</td>\n",
       "      <td>88</td>\n",
       "      <td>32</td>\n",
       "      <td>$1.50</td>\n",
       "      <td>2024-11-06</td>\n",
       "      <td>2025-06-17</td>\n",
       "      <td>2025-05-25 16:48:00</td>\n",
       "    </tr>\n",
       "  </tbody>\n",
       "</table>\n",
       "</div>"
      ],
      "text/plain": [
       "     Product_ID     Product_Name         Catagory  Supplier_ID Supplier_Name  \\\n",
       "1   40-681-9981   Arabica Coffee        Beverages  54-470-2479       Feedmix   \n",
       "16  55-936-2406      Bread Flour  Grains & Pulses  29-689-5014         Mynte   \n",
       "26  02-508-3777      Egg (Quail)            Dairy  69-933-2582     Realpoint   \n",
       "33  79-136-9840       Herbal Tea        Beverages  07-809-0926       Pixonyx   \n",
       "45  90-230-9767  Long Grain Rice  Grains & Pulses  70-515-9048        Voonyx   \n",
       "\n",
       "    Stock_Quantity  Reorder_Level  Reorder_Quantity Unit_Price Date_Received  \\\n",
       "1               45             77                 2    $20.00     2024-12-08   \n",
       "16              27             93                88     $1.50     2024-11-05   \n",
       "26              97             88                81     $0.80     2025-01-26   \n",
       "33              77             45                75    $30.00     2025-01-23   \n",
       "45              67             88                32     $1.50     2024-11-06   \n",
       "\n",
       "   Expiration_Date       Donation_Date  \n",
       "1       2025-06-01 2025-05-14 12:00:00  \n",
       "16      2025-06-16 2025-05-24 16:48:00  \n",
       "26      2025-06-05 2025-05-23 00:00:00  \n",
       "33      2025-06-05 2025-05-22 16:48:00  \n",
       "45      2025-06-17 2025-05-25 16:48:00  "
      ]
     },
     "execution_count": 30,
     "metadata": {},
     "output_type": "execute_result"
    }
   ],
   "source": [
    "condition = (df['Donation_Date'] <= curr_date) & (df['Expiration_Date'] > curr_date)\n",
    "selected_columns = ['Product_ID', 'Product_Name', 'Catagory', 'Supplier_ID', 'Supplier_Name', 'Stock_Quantity', 'Reorder_Level', 'Reorder_Quantity','Unit_Price','Date_Received','Expiration_Date','Donation_Date']\n",
    "\n",
    "# Create discount table\n",
    "donation_table = df.loc[condition, selected_columns]\n",
    "\n",
    "# View result\n",
    "donation_table.head()\n"
   ]
  },
  {
   "cell_type": "code",
   "execution_count": 31,
   "id": "8ef04e6f-4995-4dfb-a40a-c867436b9bba",
   "metadata": {},
   "outputs": [
    {
     "data": {
      "text/html": [
       "<div>\n",
       "<style scoped>\n",
       "    .dataframe tbody tr th:only-of-type {\n",
       "        vertical-align: middle;\n",
       "    }\n",
       "\n",
       "    .dataframe tbody tr th {\n",
       "        vertical-align: top;\n",
       "    }\n",
       "\n",
       "    .dataframe thead th {\n",
       "        text-align: right;\n",
       "    }\n",
       "</style>\n",
       "<table border=\"1\" class=\"dataframe\">\n",
       "  <thead>\n",
       "    <tr style=\"text-align: right;\">\n",
       "      <th></th>\n",
       "      <th>Product_ID</th>\n",
       "      <th>Product_Name</th>\n",
       "      <th>Catagory</th>\n",
       "      <th>Supplier_ID</th>\n",
       "      <th>Supplier_Name</th>\n",
       "      <th>Stock_Quantity</th>\n",
       "      <th>Reorder_Level</th>\n",
       "      <th>Reorder_Quantity</th>\n",
       "      <th>Unit_Price</th>\n",
       "      <th>Date_Received</th>\n",
       "      <th>Expiration_Date</th>\n",
       "    </tr>\n",
       "  </thead>\n",
       "  <tbody>\n",
       "    <tr>\n",
       "      <th>0</th>\n",
       "      <td>29-205-1132</td>\n",
       "      <td>Sushi Rice</td>\n",
       "      <td>Grains &amp; Pulses</td>\n",
       "      <td>38-037-1699</td>\n",
       "      <td>Jaxnation</td>\n",
       "      <td>22</td>\n",
       "      <td>72</td>\n",
       "      <td>70</td>\n",
       "      <td>$4.50</td>\n",
       "      <td>2025-03-16</td>\n",
       "      <td>2025-04-19</td>\n",
       "    </tr>\n",
       "    <tr>\n",
       "      <th>2</th>\n",
       "      <td>06-955-3428</td>\n",
       "      <td>Black Rice</td>\n",
       "      <td>Grains &amp; Pulses</td>\n",
       "      <td>54-031-2945</td>\n",
       "      <td>Vinder</td>\n",
       "      <td>30</td>\n",
       "      <td>38</td>\n",
       "      <td>83</td>\n",
       "      <td>$6.00</td>\n",
       "      <td>2025-03-03</td>\n",
       "      <td>2025-04-22</td>\n",
       "    </tr>\n",
       "    <tr>\n",
       "      <th>4</th>\n",
       "      <td>57-437-1828</td>\n",
       "      <td>Plum</td>\n",
       "      <td>Fruits &amp; Vegetables</td>\n",
       "      <td>54-226-4308</td>\n",
       "      <td>Topicstorm</td>\n",
       "      <td>37</td>\n",
       "      <td>30</td>\n",
       "      <td>74</td>\n",
       "      <td>$4.00</td>\n",
       "      <td>2025-02-03</td>\n",
       "      <td>2025-05-05</td>\n",
       "    </tr>\n",
       "    <tr>\n",
       "      <th>6</th>\n",
       "      <td>71-516-1996</td>\n",
       "      <td>Corn Oil</td>\n",
       "      <td>Oils &amp; Fats</td>\n",
       "      <td>04-391-7610</td>\n",
       "      <td>Tagfeed</td>\n",
       "      <td>96</td>\n",
       "      <td>52</td>\n",
       "      <td>16</td>\n",
       "      <td>$2.50</td>\n",
       "      <td>2024-10-18</td>\n",
       "      <td>2025-01-20</td>\n",
       "    </tr>\n",
       "    <tr>\n",
       "      <th>7</th>\n",
       "      <td>39-629-5554</td>\n",
       "      <td>Egg (Goose)</td>\n",
       "      <td>Dairy</td>\n",
       "      <td>67-679-4930</td>\n",
       "      <td>Muxo</td>\n",
       "      <td>44</td>\n",
       "      <td>90</td>\n",
       "      <td>17</td>\n",
       "      <td>$2.50</td>\n",
       "      <td>2025-02-03</td>\n",
       "      <td>2025-02-05</td>\n",
       "    </tr>\n",
       "  </tbody>\n",
       "</table>\n",
       "</div>"
      ],
      "text/plain": [
       "    Product_ID Product_Name             Catagory  Supplier_ID Supplier_Name  \\\n",
       "0  29-205-1132   Sushi Rice      Grains & Pulses  38-037-1699     Jaxnation   \n",
       "2  06-955-3428   Black Rice      Grains & Pulses  54-031-2945        Vinder   \n",
       "4  57-437-1828         Plum  Fruits & Vegetables  54-226-4308    Topicstorm   \n",
       "6  71-516-1996     Corn Oil          Oils & Fats  04-391-7610       Tagfeed   \n",
       "7  39-629-5554  Egg (Goose)                Dairy  67-679-4930          Muxo   \n",
       "\n",
       "   Stock_Quantity  Reorder_Level  Reorder_Quantity Unit_Price Date_Received  \\\n",
       "0              22             72                70     $4.50     2025-03-16   \n",
       "2              30             38                83     $6.00     2025-03-03   \n",
       "4              37             30                74     $4.00     2025-02-03   \n",
       "6              96             52                16     $2.50     2024-10-18   \n",
       "7              44             90                17     $2.50     2025-02-03   \n",
       "\n",
       "  Expiration_Date  \n",
       "0      2025-04-19  \n",
       "2      2025-04-22  \n",
       "4      2025-05-05  \n",
       "6      2025-01-20  \n",
       "7      2025-02-05  "
      ]
     },
     "execution_count": 31,
     "metadata": {},
     "output_type": "execute_result"
    }
   ],
   "source": [
    "#Expired_table\n",
    "condition =  (df['Expiration_Date'] <= curr_date)\n",
    "selected_columns = ['Product_ID', 'Product_Name', 'Catagory', 'Supplier_ID', 'Supplier_Name', 'Stock_Quantity', 'Reorder_Level', 'Reorder_Quantity','Unit_Price','Date_Received','Expiration_Date']\n",
    "\n",
    "# Create discount table\n",
    "expired_table = df.loc[condition, selected_columns]\n",
    "\n",
    "# View result\n",
    "expired_table.head()\n"
   ]
  },
  {
   "cell_type": "code",
   "execution_count": 32,
   "id": "4cb01405-42a0-4f9d-9b42-3c136c52fff5",
   "metadata": {},
   "outputs": [
    {
     "data": {
      "text/html": [
       "<div>\n",
       "<style scoped>\n",
       "    .dataframe tbody tr th:only-of-type {\n",
       "        vertical-align: middle;\n",
       "    }\n",
       "\n",
       "    .dataframe tbody tr th {\n",
       "        vertical-align: top;\n",
       "    }\n",
       "\n",
       "    .dataframe thead th {\n",
       "        text-align: right;\n",
       "    }\n",
       "</style>\n",
       "<table border=\"1\" class=\"dataframe\">\n",
       "  <thead>\n",
       "    <tr style=\"text-align: right;\">\n",
       "      <th></th>\n",
       "      <th>Product_ID</th>\n",
       "      <th>Product_Name</th>\n",
       "      <th>Catagory</th>\n",
       "      <th>Supplier_ID</th>\n",
       "      <th>Supplier_Name</th>\n",
       "      <th>Stock_Quantity</th>\n",
       "      <th>Reorder_Level</th>\n",
       "      <th>Reorder_Quantity</th>\n",
       "      <th>Unit_Price</th>\n",
       "      <th>Date_Received</th>\n",
       "      <th>Expiration_Date</th>\n",
       "    </tr>\n",
       "  </thead>\n",
       "  <tbody>\n",
       "    <tr>\n",
       "      <th>5</th>\n",
       "      <td>21-120-6238</td>\n",
       "      <td>All-Purpose Flour</td>\n",
       "      <td>Grains &amp; Pulses</td>\n",
       "      <td>86-292-4587</td>\n",
       "      <td>Dabjam</td>\n",
       "      <td>55</td>\n",
       "      <td>33</td>\n",
       "      <td>14</td>\n",
       "      <td>$1.75</td>\n",
       "      <td>2025-04-05</td>\n",
       "      <td>2025-07-03</td>\n",
       "    </tr>\n",
       "    <tr>\n",
       "      <th>12</th>\n",
       "      <td>75-094-1179</td>\n",
       "      <td>Rye Bread</td>\n",
       "      <td>Bakery</td>\n",
       "      <td>57-615-0729</td>\n",
       "      <td>Vitz</td>\n",
       "      <td>26</td>\n",
       "      <td>79</td>\n",
       "      <td>31</td>\n",
       "      <td>$3.00</td>\n",
       "      <td>2025-02-18</td>\n",
       "      <td>2025-07-13</td>\n",
       "    </tr>\n",
       "    <tr>\n",
       "      <th>19</th>\n",
       "      <td>76-854-0095</td>\n",
       "      <td>White Sugar</td>\n",
       "      <td>Grains &amp; Pulses</td>\n",
       "      <td>38-883-3382</td>\n",
       "      <td>Mydeo</td>\n",
       "      <td>65</td>\n",
       "      <td>61</td>\n",
       "      <td>82</td>\n",
       "      <td>$2.00</td>\n",
       "      <td>2024-12-31</td>\n",
       "      <td>2025-07-28</td>\n",
       "    </tr>\n",
       "    <tr>\n",
       "      <th>24</th>\n",
       "      <td>68-418-6724</td>\n",
       "      <td>Parmesan Cheese</td>\n",
       "      <td>Dairy</td>\n",
       "      <td>75-465-6257</td>\n",
       "      <td>Feedspan</td>\n",
       "      <td>63</td>\n",
       "      <td>4</td>\n",
       "      <td>85</td>\n",
       "      <td>$12.00</td>\n",
       "      <td>2025-04-30</td>\n",
       "      <td>2025-07-21</td>\n",
       "    </tr>\n",
       "    <tr>\n",
       "      <th>28</th>\n",
       "      <td>31-211-5803</td>\n",
       "      <td>Oatmeal Biscuit</td>\n",
       "      <td>Bakery</td>\n",
       "      <td>75-503-9347</td>\n",
       "      <td>Gigazoom</td>\n",
       "      <td>16</td>\n",
       "      <td>9</td>\n",
       "      <td>32</td>\n",
       "      <td>$5.00</td>\n",
       "      <td>2025-02-16</td>\n",
       "      <td>2025-09-07</td>\n",
       "    </tr>\n",
       "  </tbody>\n",
       "</table>\n",
       "</div>"
      ],
      "text/plain": [
       "     Product_ID       Product_Name         Catagory  Supplier_ID  \\\n",
       "5   21-120-6238  All-Purpose Flour  Grains & Pulses  86-292-4587   \n",
       "12  75-094-1179          Rye Bread           Bakery  57-615-0729   \n",
       "19  76-854-0095        White Sugar  Grains & Pulses  38-883-3382   \n",
       "24  68-418-6724    Parmesan Cheese            Dairy  75-465-6257   \n",
       "28  31-211-5803    Oatmeal Biscuit           Bakery  75-503-9347   \n",
       "\n",
       "   Supplier_Name  Stock_Quantity  Reorder_Level  Reorder_Quantity Unit_Price  \\\n",
       "5         Dabjam              55             33                14     $1.75    \n",
       "12          Vitz              26             79                31     $3.00    \n",
       "19         Mydeo              65             61                82     $2.00    \n",
       "24      Feedspan              63              4                85    $12.00    \n",
       "28      Gigazoom              16              9                32     $5.00    \n",
       "\n",
       "   Date_Received Expiration_Date  \n",
       "5     2025-04-05      2025-07-03  \n",
       "12    2025-02-18      2025-07-13  \n",
       "19    2024-12-31      2025-07-28  \n",
       "24    2025-04-30      2025-07-21  \n",
       "28    2025-02-16      2025-09-07  "
      ]
     },
     "execution_count": 32,
     "metadata": {},
     "output_type": "execute_result"
    }
   ],
   "source": [
    "#fresh\n",
    "condition =  (df['Discount_Date'] > curr_date)\n",
    "selected_columns = ['Product_ID', 'Product_Name', 'Catagory', 'Supplier_ID', 'Supplier_Name', 'Stock_Quantity', 'Reorder_Level', 'Reorder_Quantity','Unit_Price','Date_Received','Expiration_Date']\n",
    "\n",
    "# Create discount table\n",
    "fresh_table = df.loc[condition, selected_columns]\n",
    "\n",
    "# View resul\n",
    "fresh_table.head()\n"
   ]
  },
  {
   "cell_type": "code",
   "execution_count": 33,
   "id": "6184c68c-d6cb-47d2-8c02-d884dd8918c4",
   "metadata": {},
   "outputs": [
    {
     "data": {
      "text/plain": [
       "989"
      ]
     },
     "execution_count": 33,
     "metadata": {},
     "output_type": "execute_result"
    }
   ],
   "source": [
    "len(fresh_table)+len(expired_table)+len(discount_table)+len(donation_table)"
   ]
  },
  {
   "cell_type": "code",
   "execution_count": 34,
   "id": "149d923c-8ab3-4be1-a9bb-87c179b0cf14",
   "metadata": {},
   "outputs": [
    {
     "data": {
      "text/plain": [
       "989"
      ]
     },
     "execution_count": 34,
     "metadata": {},
     "output_type": "execute_result"
    }
   ],
   "source": [
    "len(df)"
   ]
  },
  {
   "cell_type": "code",
   "execution_count": null,
   "id": "0717c0ad-fb78-42d9-af6d-37aba2405638",
   "metadata": {},
   "outputs": [],
   "source": []
  },
  {
   "cell_type": "code",
   "execution_count": null,
   "id": "38b274ad-9be8-466a-9c74-3b635b2aabec",
   "metadata": {},
   "outputs": [],
   "source": []
  }
 ],
 "metadata": {
  "kernelspec": {
   "display_name": "Python 3 (ipykernel)",
   "language": "python",
   "name": "python3"
  },
  "language_info": {
   "codemirror_mode": {
    "name": "ipython",
    "version": 3
   },
   "file_extension": ".py",
   "mimetype": "text/x-python",
   "name": "python",
   "nbconvert_exporter": "python",
   "pygments_lexer": "ipython3",
   "version": "3.12.4"
  }
 },
 "nbformat": 4,
 "nbformat_minor": 5
}
